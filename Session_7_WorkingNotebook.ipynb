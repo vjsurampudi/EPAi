{
  "nbformat": 4,
  "nbformat_minor": 0,
  "metadata": {
    "orig_nbformat": 2,
    "deepnote": {
      "is_reactive": false
    },
    "deepnote_notebook_id": "d9695b2f-6e47-407f-916b-7b17d4f0810f",
    "deepnote_execution_queue": [],
    "colab": {
      "name": "Session 7.ipynb",
      "provenance": [],
      "include_colab_link": true
    }
  },
  "cells": [
    {
      "cell_type": "markdown",
      "metadata": {
        "id": "view-in-github",
        "colab_type": "text"
      },
      "source": [
        "<a href=\"https://colab.research.google.com/github/vjsurampudi/EPAi/blob/main/Session_7_WorkingNotebook.ipynb\" target=\"_parent\"><img src=\"https://colab.research.google.com/assets/colab-badge.svg\" alt=\"Open In Colab\"/></a>"
      ]
    },
    {
      "cell_type": "code",
      "metadata": {
        "tags": [],
        "cell_id": "00000-9ebbe9c8-8c13-4a2d-a928-a4eea0c076c0",
        "deepnote_to_be_reexecuted": false,
        "source_hash": "b61bd7cc",
        "execution_start": 1623476246117,
        "execution_millis": 1,
        "deepnote_cell_type": "code",
        "id": "B76iiyzI3-b8",
        "outputId": "73d88dd3-50bd-4e4e-c221-5dd517f8bfe2"
      },
      "source": [
        "print(\"Session 7\")"
      ],
      "execution_count": null,
      "outputs": [
        {
          "output_type": "stream",
          "text": [
            "Session 7\n"
          ],
          "name": "stdout"
        }
      ]
    },
    {
      "cell_type": "code",
      "metadata": {
        "tags": [],
        "cell_id": "00001-0bf66009-4bfc-493c-a851-9dcb9ec0f346",
        "deepnote_to_be_reexecuted": false,
        "source_hash": "c16d8ddd",
        "execution_start": 1623476321045,
        "execution_millis": 1,
        "deepnote_cell_type": "code",
        "id": "Wnk54aSs3-cD"
      },
      "source": [
        "a = 10"
      ],
      "execution_count": null,
      "outputs": []
    },
    {
      "cell_type": "code",
      "metadata": {
        "tags": [],
        "cell_id": "00002-216d7f87-7cad-40ed-9fbb-b61604630788",
        "deepnote_to_be_reexecuted": false,
        "source_hash": "6803137d",
        "execution_start": 1623476354317,
        "execution_millis": 1,
        "deepnote_cell_type": "code",
        "id": "2FryzZbA3-cE"
      },
      "source": [
        "def my_func(n):\n",
        "    c = n ** 2\n",
        "    return c"
      ],
      "execution_count": null,
      "outputs": []
    },
    {
      "cell_type": "code",
      "metadata": {
        "tags": [],
        "cell_id": "00003-bd9f9f85-8093-4132-95e5-28ca3b42541c",
        "deepnote_to_be_reexecuted": false,
        "source_hash": "dfbd6457",
        "execution_start": 1623476442889,
        "execution_millis": 0,
        "deepnote_cell_type": "code",
        "id": "VKuPMmnn3-cF"
      },
      "source": [
        "def my_func(n):\n",
        "    print('global:', a)\n",
        "    c = a ** n\n",
        "    return c"
      ],
      "execution_count": null,
      "outputs": []
    },
    {
      "cell_type": "code",
      "metadata": {
        "tags": [],
        "cell_id": "00004-2ec77728-956d-460a-a6c3-b5865cab771f",
        "deepnote_to_be_reexecuted": false,
        "source_hash": "82bb942b",
        "execution_start": 1623476520649,
        "execution_millis": 9,
        "deepnote_cell_type": "code",
        "id": "myDoEBtx3-cF",
        "outputId": "4d78d6f9-15bc-43f2-8361-05656244a720"
      },
      "source": [
        "my_func(2)"
      ],
      "execution_count": null,
      "outputs": [
        {
          "output_type": "stream",
          "text": [
            "global: 10\n"
          ],
          "name": "stdout"
        },
        {
          "output_type": "execute_result",
          "data": {
            "text/plain": [
              "100"
            ]
          },
          "metadata": {
            "tags": []
          },
          "execution_count": 6
        }
      ]
    },
    {
      "cell_type": "code",
      "metadata": {
        "tags": [],
        "cell_id": "00005-8fa60a0d-e8e7-4442-ba8f-910b466bbf8c",
        "deepnote_to_be_reexecuted": false,
        "source_hash": "4cf36f0",
        "execution_start": 1623476569645,
        "execution_millis": 1,
        "deepnote_cell_type": "code",
        "id": "ZVrlGtwX3-cG"
      },
      "source": [
        "def my_func(n):\n",
        "    a = 2\n",
        "    c = a ** 2\n",
        "    print(a)\n",
        "    return c"
      ],
      "execution_count": null,
      "outputs": []
    },
    {
      "cell_type": "code",
      "metadata": {
        "tags": [],
        "cell_id": "00006-ad18b9a0-25b2-44dd-ab80-313149cdf0c8",
        "deepnote_to_be_reexecuted": false,
        "source_hash": "ee277cd2",
        "execution_start": 1623476582805,
        "execution_millis": 5,
        "deepnote_cell_type": "code",
        "id": "HVbwUSDY3-cH",
        "outputId": "8c0392a4-c90f-42c8-9e2c-85fc6bd6ddfb"
      },
      "source": [
        "print(a)\n",
        "print(my_func(3))\n",
        "print(a)"
      ],
      "execution_count": null,
      "outputs": [
        {
          "output_type": "stream",
          "text": [
            "10\n",
            "2\n",
            "4\n",
            "10\n"
          ],
          "name": "stdout"
        }
      ]
    },
    {
      "cell_type": "code",
      "metadata": {
        "tags": [],
        "cell_id": "00007-a45c03ff-a888-4120-9e2f-8e28973284de",
        "deepnote_to_be_reexecuted": false,
        "source_hash": "50d361a7",
        "execution_start": 1623476761433,
        "execution_millis": 4,
        "deepnote_cell_type": "code",
        "id": "08_qUIow3-cI"
      },
      "source": [
        "a = 10\n",
        "\n",
        "def func1(n):\n",
        "    global a\n",
        "    a = 2\n",
        "    c = a**2\n",
        "    return c"
      ],
      "execution_count": null,
      "outputs": []
    },
    {
      "cell_type": "code",
      "metadata": {
        "tags": [],
        "cell_id": "00008-3536d785-bf1f-463d-a801-6598f4b6cf73",
        "deepnote_to_be_reexecuted": false,
        "source_hash": "2ed0c9b2",
        "execution_start": 1623476748255,
        "execution_millis": 1,
        "deepnote_cell_type": "code",
        "id": "GH9Hl1qg3-cJ",
        "outputId": "edc6306b-38e4-45ce-8c62-bb27276a9a6f"
      },
      "source": [
        "print(a)\n",
        "print(func1(3))\n",
        "print(a)"
      ],
      "execution_count": null,
      "outputs": [
        {
          "output_type": "stream",
          "text": [
            "10\n",
            "4\n",
            "2\n"
          ],
          "name": "stdout"
        }
      ]
    },
    {
      "cell_type": "code",
      "metadata": {
        "tags": [],
        "cell_id": "00009-aa9a7ae3-6e54-44bd-9d81-e0e97c95677a",
        "deepnote_to_be_reexecuted": false,
        "source_hash": "90d09a78",
        "execution_start": 1623476779959,
        "execution_millis": 4,
        "deepnote_cell_type": "code",
        "id": "csYkBjff3-cK"
      },
      "source": [
        "def func_error():\n",
        "    a = PLASMA_TV\n",
        "    print(a)"
      ],
      "execution_count": null,
      "outputs": []
    },
    {
      "cell_type": "code",
      "metadata": {
        "tags": [],
        "cell_id": "00010-441544f9-27a1-4998-a4cb-d8560ea27f0a",
        "deepnote_to_be_reexecuted": false,
        "source_hash": "38cf5f51",
        "execution_start": 1623476796079,
        "execution_millis": 51,
        "deepnote_cell_type": "code",
        "id": "8FCq7iyd3-cL",
        "outputId": "84d94874-75f0-415d-dad0-4279018b6080"
      },
      "source": [
        "def func_error():\n",
        "    a = 2\n",
        "    global a\n",
        "    print(a)"
      ],
      "execution_count": null,
      "outputs": [
        {
          "output_type": "error",
          "ename": "SyntaxError",
          "evalue": "name 'a' is assigned to before global declaration (<ipython-input-22-62ba894db69f>, line 3)",
          "traceback": [
            "\u001b[0;36m  File \u001b[0;32m\"<ipython-input-22-62ba894db69f>\"\u001b[0;36m, line \u001b[0;32m3\u001b[0m\n\u001b[0;31m    global a\u001b[0m\n\u001b[0m    ^\u001b[0m\n\u001b[0;31mSyntaxError\u001b[0m\u001b[0;31m:\u001b[0m name 'a' is assigned to before global declaration\n"
          ]
        }
      ]
    },
    {
      "cell_type": "code",
      "metadata": {
        "tags": [],
        "cell_id": "00011-5a987e34-2c2c-459d-a4dd-4bf52b382b73",
        "deepnote_to_be_reexecuted": false,
        "source_hash": "d9701b0e",
        "execution_start": 1623476826489,
        "execution_millis": 2,
        "deepnote_cell_type": "code",
        "id": "F8FcafrZ3-cM"
      },
      "source": [
        "def func_error():\n",
        "    print(PLASMA_TV)\n",
        "    PLASMA_TV = 2"
      ],
      "execution_count": null,
      "outputs": []
    },
    {
      "cell_type": "code",
      "metadata": {
        "tags": [],
        "cell_id": "00012-3a044c4f-a82c-40d9-8f13-8e218505e1e7",
        "deepnote_to_be_reexecuted": false,
        "source_hash": "7b371d72",
        "execution_start": 1623476838209,
        "execution_millis": 535,
        "deepnote_cell_type": "code",
        "id": "QDi1fEN73-cM",
        "outputId": "c3920e02-06cd-48cd-c025-4fb14f75d100"
      },
      "source": [
        "func_error()"
      ],
      "execution_count": null,
      "outputs": [
        {
          "output_type": "error",
          "ename": "UnboundLocalError",
          "evalue": "local variable 'PLASMA_TV' referenced before assignment",
          "traceback": [
            "\u001b[0;31m---------------------------------------------------------------------------\u001b[0m",
            "\u001b[0;31mUnboundLocalError\u001b[0m                         Traceback (most recent call last)",
            "\u001b[0;32m<ipython-input-24-b7b95aee137a>\u001b[0m in \u001b[0;36m<module>\u001b[0;34m\u001b[0m\n\u001b[0;32m----> 1\u001b[0;31m \u001b[0mfunc_error\u001b[0m\u001b[0;34m(\u001b[0m\u001b[0;34m)\u001b[0m\u001b[0;34m\u001b[0m\u001b[0;34m\u001b[0m\u001b[0m\n\u001b[0m",
            "\u001b[0;32m<ipython-input-23-d2a626b20476>\u001b[0m in \u001b[0;36mfunc_error\u001b[0;34m()\u001b[0m\n\u001b[1;32m      1\u001b[0m \u001b[0;32mdef\u001b[0m \u001b[0mfunc_error\u001b[0m\u001b[0;34m(\u001b[0m\u001b[0;34m)\u001b[0m\u001b[0;34m:\u001b[0m\u001b[0;34m\u001b[0m\u001b[0;34m\u001b[0m\u001b[0m\n\u001b[0;32m----> 2\u001b[0;31m     \u001b[0mprint\u001b[0m\u001b[0;34m(\u001b[0m\u001b[0mPLASMA_TV\u001b[0m\u001b[0;34m)\u001b[0m\u001b[0;34m\u001b[0m\u001b[0;34m\u001b[0m\u001b[0m\n\u001b[0m\u001b[1;32m      3\u001b[0m     \u001b[0mPLASMA_TV\u001b[0m \u001b[0;34m=\u001b[0m \u001b[0;36m2\u001b[0m\u001b[0;34m\u001b[0m\u001b[0;34m\u001b[0m\u001b[0m\n",
            "\u001b[0;31mUnboundLocalError\u001b[0m: local variable 'PLASMA_TV' referenced before assignment"
          ]
        }
      ]
    },
    {
      "cell_type": "code",
      "metadata": {
        "tags": [],
        "cell_id": "00013-a3bca32a-ba7f-44da-912d-9fca0156482d",
        "deepnote_to_be_reexecuted": false,
        "source_hash": "6f7b34e1",
        "execution_start": 1623476893829,
        "execution_millis": 1,
        "deepnote_cell_type": "code",
        "id": "a3b9q0Ty3-cN"
      },
      "source": [
        "def my_func(n):\n",
        "    global var\n",
        "    var = 'hello world'\n",
        "    return n ** 2"
      ],
      "execution_count": null,
      "outputs": []
    },
    {
      "cell_type": "code",
      "metadata": {
        "tags": [],
        "cell_id": "00014-a6d33b52-9ace-429c-b1c4-98e019394e8e",
        "deepnote_to_be_reexecuted": false,
        "source_hash": "c7a9a031",
        "execution_start": 1623476906235,
        "execution_millis": 10,
        "deepnote_cell_type": "code",
        "id": "7mL54uk33-cO",
        "outputId": "662f8528-6071-4bac-dfb6-caae9a456179"
      },
      "source": [
        "print(var)"
      ],
      "execution_count": null,
      "outputs": [
        {
          "output_type": "error",
          "ename": "NameError",
          "evalue": "name 'var' is not defined",
          "traceback": [
            "\u001b[0;31m---------------------------------------------------------------------------\u001b[0m",
            "\u001b[0;31mNameError\u001b[0m                                 Traceback (most recent call last)",
            "\u001b[0;32m<ipython-input-26-2ea387ab95ff>\u001b[0m in \u001b[0;36m<module>\u001b[0;34m\u001b[0m\n\u001b[0;32m----> 1\u001b[0;31m \u001b[0mprint\u001b[0m\u001b[0;34m(\u001b[0m\u001b[0mvar\u001b[0m\u001b[0;34m)\u001b[0m\u001b[0;34m\u001b[0m\u001b[0;34m\u001b[0m\u001b[0m\n\u001b[0m",
            "\u001b[0;31mNameError\u001b[0m: name 'var' is not defined"
          ]
        }
      ]
    },
    {
      "cell_type": "code",
      "metadata": {
        "tags": [],
        "cell_id": "00015-3d000c58-5455-4509-987c-c7acae63d269",
        "deepnote_to_be_reexecuted": false,
        "source_hash": "2b9ec231",
        "execution_start": 1623476950492,
        "execution_millis": 6,
        "deepnote_cell_type": "code",
        "id": "dKd7CmHb3-cO",
        "outputId": "144d78e4-d159-48d0-9f2b-263ec64f67cb"
      },
      "source": [
        "my_func(3)\n",
        "print(var)"
      ],
      "execution_count": null,
      "outputs": [
        {
          "output_type": "stream",
          "text": [
            "hello world\n"
          ],
          "name": "stdout"
        }
      ]
    },
    {
      "cell_type": "code",
      "metadata": {
        "tags": [],
        "cell_id": "00016-a025d76a-6691-4d16-9b8e-4e2b8992268c",
        "deepnote_to_be_reexecuted": false,
        "source_hash": "c90d25ca",
        "execution_start": 1623476969653,
        "execution_millis": 9,
        "deepnote_cell_type": "code",
        "id": "Cfe5hna23-cP",
        "outputId": "ddc371eb-21bb-4a10-869d-411c7fed9243"
      },
      "source": [
        "print(THANOS)"
      ],
      "execution_count": null,
      "outputs": [
        {
          "output_type": "error",
          "ename": "NameError",
          "evalue": "name 'THANOS' is not defined",
          "traceback": [
            "\u001b[0;31m---------------------------------------------------------------------------\u001b[0m",
            "\u001b[0;31mNameError\u001b[0m                                 Traceback (most recent call last)",
            "\u001b[0;32m<ipython-input-28-326202dd71c7>\u001b[0m in \u001b[0;36m<module>\u001b[0;34m\u001b[0m\n\u001b[0;32m----> 1\u001b[0;31m \u001b[0mprint\u001b[0m\u001b[0;34m(\u001b[0m\u001b[0mTHANOS\u001b[0m\u001b[0;34m)\u001b[0m\u001b[0;34m\u001b[0m\u001b[0;34m\u001b[0m\u001b[0m\n\u001b[0m",
            "\u001b[0;31mNameError\u001b[0m: name 'THANOS' is not defined"
          ]
        }
      ]
    },
    {
      "cell_type": "code",
      "metadata": {
        "tags": [],
        "cell_id": "00017-d5058120-786b-4059-9977-2931c8cdfa7e",
        "deepnote_to_be_reexecuted": false,
        "source_hash": "c95eee60",
        "execution_start": 1623477002665,
        "execution_millis": 7,
        "deepnote_cell_type": "code",
        "id": "AeJHzC_y3-cP",
        "outputId": "462b516a-91d4-434c-ac72-14cef459d6db"
      },
      "source": [
        "def func_thanos_creator():\n",
        "    global THANOS\n",
        "    THANOS = '5 RINGS'\n",
        "\n",
        "func_thanos_creator()\n",
        "\n",
        "print(THANOS)"
      ],
      "execution_count": null,
      "outputs": [
        {
          "output_type": "stream",
          "text": [
            "5 RINGS\n"
          ],
          "name": "stdout"
        }
      ]
    },
    {
      "cell_type": "code",
      "metadata": {
        "tags": [],
        "cell_id": "00018-b7db6097-1ca7-4b05-bcfd-d42236266a20",
        "deepnote_to_be_reexecuted": false,
        "source_hash": "72703aa8",
        "execution_start": 1623477141202,
        "execution_millis": 4,
        "deepnote_cell_type": "code",
        "id": "unR5OyCu3-cQ",
        "outputId": "bb8b9cae-46ed-4b0b-f1ea-48a0024c5fdd"
      },
      "source": [
        "def func_thanos_creator():\n",
        "    THANOS = 'NO RINGS'\n",
        "\n",
        "func_thanos_creator()\n",
        "\n",
        "print(THANOS)"
      ],
      "execution_count": null,
      "outputs": [
        {
          "output_type": "stream",
          "text": [
            "5 RINGS\n"
          ],
          "name": "stdout"
        }
      ]
    },
    {
      "cell_type": "code",
      "metadata": {
        "tags": [],
        "cell_id": "00019-95df5584-8e92-4144-95af-103a6bac8600",
        "deepnote_to_be_reexecuted": false,
        "source_hash": "c9b0025c",
        "execution_start": 1623477226053,
        "execution_millis": 5,
        "deepnote_cell_type": "code",
        "id": "enMcx5_o3-cR",
        "outputId": "ac2d6e0c-772f-4652-f7e1-e1bb280c5f20"
      },
      "source": [
        "a = 10\n",
        "b = 100\n",
        "\n",
        "def my_func():\n",
        "    print(a)\n",
        "    print(b)\n",
        "\n",
        "    \n",
        "my_func()"
      ],
      "execution_count": null,
      "outputs": [
        {
          "output_type": "stream",
          "text": [
            "10\n",
            "100\n"
          ],
          "name": "stdout"
        }
      ]
    },
    {
      "cell_type": "code",
      "metadata": {
        "tags": [],
        "cell_id": "00020-733446e1-cf49-418f-83bd-e2ca11463015",
        "deepnote_to_be_reexecuted": false,
        "source_hash": "ad8a6759",
        "execution_start": 1623477236518,
        "execution_millis": 29,
        "deepnote_cell_type": "code",
        "id": "nOWJqcru3-cR",
        "outputId": "f1a53933-4f59-4699-bf5d-97d96fd8c806"
      },
      "source": [
        "a = 10\n",
        "b = 100\n",
        "\n",
        "def my_func():\n",
        "    print(a)\n",
        "    print(b)\n",
        "    b = 100\n",
        "\n",
        "    \n",
        "my_func()"
      ],
      "execution_count": null,
      "outputs": [
        {
          "output_type": "stream",
          "text": [
            "10\n"
          ],
          "name": "stdout"
        },
        {
          "output_type": "error",
          "ename": "UnboundLocalError",
          "evalue": "local variable 'b' referenced before assignment",
          "traceback": [
            "\u001b[0;31m---------------------------------------------------------------------------\u001b[0m",
            "\u001b[0;31mUnboundLocalError\u001b[0m                         Traceback (most recent call last)",
            "\u001b[0;32m<ipython-input-34-a281c6c2e7a9>\u001b[0m in \u001b[0;36m<module>\u001b[0;34m\u001b[0m\n\u001b[1;32m      8\u001b[0m \u001b[0;34m\u001b[0m\u001b[0m\n\u001b[1;32m      9\u001b[0m \u001b[0;34m\u001b[0m\u001b[0m\n\u001b[0;32m---> 10\u001b[0;31m \u001b[0mmy_func\u001b[0m\u001b[0;34m(\u001b[0m\u001b[0;34m)\u001b[0m\u001b[0;34m\u001b[0m\u001b[0;34m\u001b[0m\u001b[0m\n\u001b[0m",
            "\u001b[0;32m<ipython-input-34-a281c6c2e7a9>\u001b[0m in \u001b[0;36mmy_func\u001b[0;34m()\u001b[0m\n\u001b[1;32m      4\u001b[0m \u001b[0;32mdef\u001b[0m \u001b[0mmy_func\u001b[0m\u001b[0;34m(\u001b[0m\u001b[0;34m)\u001b[0m\u001b[0;34m:\u001b[0m\u001b[0;34m\u001b[0m\u001b[0;34m\u001b[0m\u001b[0m\n\u001b[1;32m      5\u001b[0m     \u001b[0mprint\u001b[0m\u001b[0;34m(\u001b[0m\u001b[0ma\u001b[0m\u001b[0;34m)\u001b[0m\u001b[0;34m\u001b[0m\u001b[0;34m\u001b[0m\u001b[0m\n\u001b[0;32m----> 6\u001b[0;31m     \u001b[0mprint\u001b[0m\u001b[0;34m(\u001b[0m\u001b[0mb\u001b[0m\u001b[0;34m)\u001b[0m\u001b[0;34m\u001b[0m\u001b[0;34m\u001b[0m\u001b[0m\n\u001b[0m\u001b[1;32m      7\u001b[0m     \u001b[0mb\u001b[0m \u001b[0;34m=\u001b[0m \u001b[0;36m100\u001b[0m\u001b[0;34m\u001b[0m\u001b[0;34m\u001b[0m\u001b[0m\n\u001b[1;32m      8\u001b[0m \u001b[0;34m\u001b[0m\u001b[0m\n",
            "\u001b[0;31mUnboundLocalError\u001b[0m: local variable 'b' referenced before assignment"
          ]
        }
      ]
    },
    {
      "cell_type": "code",
      "metadata": {
        "tags": [],
        "cell_id": "00021-20e25938-1a0d-46aa-a8e6-16dc48b396fa",
        "deepnote_to_be_reexecuted": false,
        "source_hash": "97c03a0d",
        "execution_start": 1623477300703,
        "execution_millis": 6,
        "deepnote_cell_type": "code",
        "id": "2Wt8Lfxe3-cS",
        "outputId": "c71f3600-899e-4ed7-c17a-c784c4c0d58c"
      },
      "source": [
        "print = lambda x : f'Hello {x}'\n",
        "print('rohan')"
      ],
      "execution_count": null,
      "outputs": [
        {
          "output_type": "execute_result",
          "data": {
            "text/plain": [
              "'Hello rohan'"
            ]
          },
          "metadata": {
            "tags": []
          },
          "execution_count": 36
        }
      ]
    },
    {
      "cell_type": "code",
      "metadata": {
        "tags": [],
        "cell_id": "00022-f807d2fc-6a12-42d2-9faa-ec094006daef",
        "deepnote_to_be_reexecuted": false,
        "source_hash": "f2e590d2",
        "execution_start": 1623477308412,
        "execution_millis": 5,
        "deepnote_cell_type": "code",
        "id": "Ny8PMhfw3-cT",
        "outputId": "1a1cb874-a2d3-41dc-a670-290b861ccb5e"
      },
      "source": [
        "print('Thanos')"
      ],
      "execution_count": null,
      "outputs": [
        {
          "output_type": "execute_result",
          "data": {
            "text/plain": [
              "'Hello Thanos'"
            ]
          },
          "metadata": {
            "tags": []
          },
          "execution_count": 37
        }
      ]
    },
    {
      "cell_type": "code",
      "metadata": {
        "tags": [],
        "cell_id": "00023-165c5638-c355-4b7e-afcc-8c5e2a7c9f76",
        "deepnote_to_be_reexecuted": false,
        "source_hash": "e95b25fd",
        "execution_start": 1623477523584,
        "execution_millis": 8,
        "deepnote_cell_type": "code",
        "id": "P_yQQVxR3-cU",
        "outputId": "2c03fc1d-3020-48e2-d7d7-561fb36be544"
      },
      "source": [
        "print = \"Rohan\"\n",
        "\n",
        "print"
      ],
      "execution_count": null,
      "outputs": [
        {
          "output_type": "execute_result",
          "data": {
            "text/plain": [
              "'Rohan'"
            ]
          },
          "metadata": {
            "tags": []
          },
          "execution_count": 38
        }
      ]
    },
    {
      "cell_type": "code",
      "metadata": {
        "tags": [],
        "cell_id": "00024-170d7430-1a1d-4db0-b8f5-56c4cabe4357",
        "deepnote_to_be_reexecuted": false,
        "source_hash": "c9efce7f",
        "execution_start": 1623477528355,
        "execution_millis": 1,
        "deepnote_cell_type": "code",
        "id": "SeUF2fQX3-cV"
      },
      "source": [
        "del print"
      ],
      "execution_count": null,
      "outputs": []
    },
    {
      "cell_type": "code",
      "metadata": {
        "tags": [],
        "cell_id": "00025-73d49b39-a563-47ef-8d1b-ec3a8e418163",
        "deepnote_to_be_reexecuted": false,
        "source_hash": "dcc2303b",
        "execution_start": 1623477540679,
        "execution_millis": 7,
        "deepnote_cell_type": "code",
        "id": "UaWb2prU3-cV",
        "outputId": "7af3dd54-efd3-4b49-8945-14f35c2ae460"
      },
      "source": [
        "print(\"AS we have always expected to use this\")"
      ],
      "execution_count": null,
      "outputs": [
        {
          "output_type": "stream",
          "text": [
            "AS we have always expected to use this\n"
          ],
          "name": "stdout"
        }
      ]
    },
    {
      "cell_type": "code",
      "metadata": {
        "tags": [],
        "cell_id": "00026-d8f9cf69-5417-4483-b33e-d3fbab801668",
        "deepnote_to_be_reexecuted": false,
        "source_hash": "46b177c6",
        "execution_start": 1623477654482,
        "execution_millis": 15,
        "deepnote_cell_type": "code",
        "id": "o3lMcEEg3-cW",
        "outputId": "81dea7d9-2911-460f-beaa-0e072fc05390"
      },
      "source": [
        "def func():\n",
        "    print(\"rohan\")\n",
        "\n",
        "    print = lambda x : f'Hello {x}'\n",
        "\n",
        "func()"
      ],
      "execution_count": null,
      "outputs": [
        {
          "output_type": "error",
          "ename": "UnboundLocalError",
          "evalue": "local variable 'print' referenced before assignment",
          "traceback": [
            "\u001b[0;31m---------------------------------------------------------------------------\u001b[0m",
            "\u001b[0;31mUnboundLocalError\u001b[0m                         Traceback (most recent call last)",
            "\u001b[0;32m<ipython-input-46-085d0aca6f09>\u001b[0m in \u001b[0;36m<module>\u001b[0;34m\u001b[0m\n\u001b[1;32m      4\u001b[0m     \u001b[0mprint\u001b[0m \u001b[0;34m=\u001b[0m \u001b[0;32mlambda\u001b[0m \u001b[0mx\u001b[0m \u001b[0;34m:\u001b[0m \u001b[0;34mf'Hello {x}'\u001b[0m\u001b[0;34m\u001b[0m\u001b[0;34m\u001b[0m\u001b[0m\n\u001b[1;32m      5\u001b[0m \u001b[0;34m\u001b[0m\u001b[0m\n\u001b[0;32m----> 6\u001b[0;31m \u001b[0mfunc\u001b[0m\u001b[0;34m(\u001b[0m\u001b[0;34m)\u001b[0m\u001b[0;34m\u001b[0m\u001b[0;34m\u001b[0m\u001b[0m\n\u001b[0m",
            "\u001b[0;32m<ipython-input-46-085d0aca6f09>\u001b[0m in \u001b[0;36mfunc\u001b[0;34m()\u001b[0m\n\u001b[1;32m      1\u001b[0m \u001b[0;32mdef\u001b[0m \u001b[0mfunc\u001b[0m\u001b[0;34m(\u001b[0m\u001b[0;34m)\u001b[0m\u001b[0;34m:\u001b[0m\u001b[0;34m\u001b[0m\u001b[0;34m\u001b[0m\u001b[0m\n\u001b[0;32m----> 2\u001b[0;31m     \u001b[0mprint\u001b[0m\u001b[0;34m(\u001b[0m\u001b[0;34m\"rohan\"\u001b[0m\u001b[0;34m)\u001b[0m\u001b[0;34m\u001b[0m\u001b[0;34m\u001b[0m\u001b[0m\n\u001b[0m\u001b[1;32m      3\u001b[0m \u001b[0;34m\u001b[0m\u001b[0m\n\u001b[1;32m      4\u001b[0m     \u001b[0mprint\u001b[0m \u001b[0;34m=\u001b[0m \u001b[0;32mlambda\u001b[0m \u001b[0mx\u001b[0m \u001b[0;34m:\u001b[0m \u001b[0;34mf'Hello {x}'\u001b[0m\u001b[0;34m\u001b[0m\u001b[0;34m\u001b[0m\u001b[0m\n\u001b[1;32m      5\u001b[0m \u001b[0;34m\u001b[0m\u001b[0m\n",
            "\u001b[0;31mUnboundLocalError\u001b[0m: local variable 'print' referenced before assignment"
          ]
        }
      ]
    },
    {
      "cell_type": "code",
      "metadata": {
        "tags": [],
        "cell_id": "00027-c9f44d8c-f49a-4a33-b131-7049097dedf9",
        "deepnote_to_be_reexecuted": false,
        "source_hash": "ae61761d",
        "execution_start": 1623477646855,
        "execution_millis": 6,
        "deepnote_cell_type": "code",
        "id": "SyoygWuO3-cW",
        "outputId": "04d0fa8c-724d-4fdd-f709-9e5aec5e4ba0"
      },
      "source": [
        "def func():\n",
        "    my_func123(\"rohan\")\n",
        "\n",
        "    my_func123 = lambda x : f'Hello {x}'\n",
        "\n"
      ],
      "execution_count": null,
      "outputs": [
        {
          "output_type": "stream",
          "text": [
            "rohan\n"
          ],
          "name": "stdout"
        }
      ]
    },
    {
      "cell_type": "code",
      "metadata": {
        "tags": [],
        "cell_id": "00028-8b92ca6c-eefd-4f5f-bb86-1725249e6c29",
        "deepnote_to_be_reexecuted": false,
        "source_hash": "c9efce7f",
        "execution_start": 1623477680554,
        "execution_millis": 9,
        "deepnote_cell_type": "code",
        "id": "876hgmKO3-cX",
        "outputId": "7406d4d6-0746-4c4a-c35c-665d7c2af29d"
      },
      "source": [
        "del print"
      ],
      "execution_count": null,
      "outputs": [
        {
          "output_type": "error",
          "ename": "NameError",
          "evalue": "name 'print' is not defined",
          "traceback": [
            "\u001b[0;31m---------------------------------------------------------------------------\u001b[0m",
            "\u001b[0;31mNameError\u001b[0m                                 Traceback (most recent call last)",
            "\u001b[0;32m<ipython-input-48-1683c75ea801>\u001b[0m in \u001b[0;36m<module>\u001b[0;34m\u001b[0m\n\u001b[0;32m----> 1\u001b[0;31m \u001b[0;32mdel\u001b[0m \u001b[0mprint\u001b[0m\u001b[0;34m\u001b[0m\u001b[0;34m\u001b[0m\u001b[0m\n\u001b[0m",
            "\u001b[0;31mNameError\u001b[0m: name 'print' is not defined"
          ]
        }
      ]
    },
    {
      "cell_type": "code",
      "metadata": {
        "tags": [],
        "cell_id": "00029-69f7ab66-7f38-44d0-baa7-dd05a8501608",
        "deepnote_to_be_reexecuted": false,
        "source_hash": "73f3e935",
        "execution_start": 1623477685698,
        "execution_millis": 9,
        "deepnote_cell_type": "code",
        "id": "h6JKFiVR3-cX",
        "outputId": "c6a1ab77-b7c2-46c1-c262-a35030aea58a"
      },
      "source": [
        "print(\"rohan\")"
      ],
      "execution_count": null,
      "outputs": [
        {
          "output_type": "stream",
          "text": [
            "rohan\n"
          ],
          "name": "stdout"
        }
      ]
    },
    {
      "cell_type": "code",
      "metadata": {
        "tags": [],
        "cell_id": "00030-5fc77905-4919-4423-94f6-d1dd4ed46e54",
        "deepnote_to_be_reexecuted": false,
        "source_hash": "59a5c114",
        "execution_start": 1623477836522,
        "execution_millis": 5,
        "deepnote_cell_type": "code",
        "id": "2KBfjELa3-cY",
        "outputId": "33bc7317-0591-41e1-e477-4b2331d7a790"
      },
      "source": [
        "# JAVA or C++ for (int i = 0; i < = 45; i++){}\n",
        "# cout << i; << ERROR\n",
        "\n",
        "for i in range(10):\n",
        "    print(i)\n",
        "\n",
        "print(i)"
      ],
      "execution_count": null,
      "outputs": [
        {
          "output_type": "stream",
          "text": [
            "0\n",
            "1\n",
            "2\n",
            "3\n",
            "4\n",
            "5\n",
            "6\n",
            "7\n",
            "8\n",
            "9\n",
            "9\n"
          ],
          "name": "stdout"
        }
      ]
    },
    {
      "cell_type": "code",
      "metadata": {
        "tags": [],
        "cell_id": "00031-df81f99c-e96b-4794-8e1a-d38cbe4610a6",
        "deepnote_to_be_reexecuted": false,
        "source_hash": "56bdcc76",
        "execution_start": 1623477958105,
        "execution_millis": 6,
        "deepnote_cell_type": "code",
        "id": "vePj7gli3-cY",
        "outputId": "553ed27b-0206-4d37-d241-d8bb1917343e"
      },
      "source": [
        "# LOOPS DO NOT CREATE THEIR OWN SCOPES\n",
        "\n",
        "for i in range(10):\n",
        "    aa = \"RED\"\n",
        "\n",
        "print(aa)"
      ],
      "execution_count": null,
      "outputs": [
        {
          "output_type": "stream",
          "text": [
            "RED\n"
          ],
          "name": "stdout"
        }
      ]
    },
    {
      "cell_type": "markdown",
      "metadata": {
        "tags": [],
        "cell_id": "00032-70eaef15-b0f8-4e4b-99a5-ad4e65c3d0a6",
        "deepnote_cell_type": "text-cell-h1",
        "id": "5UC9xE9L3-cZ"
      },
      "source": [
        "# Non-Local Scopes"
      ]
    },
    {
      "cell_type": "code",
      "metadata": {
        "tags": [],
        "cell_id": "00032-f0296e7d-1f04-41e7-81ea-1cf09b7550e8",
        "deepnote_to_be_reexecuted": false,
        "source_hash": "16b4c3ab",
        "execution_start": 1623478168256,
        "execution_millis": 8,
        "deepnote_cell_type": "code",
        "id": "c2USYPCi3-cZ",
        "outputId": "5890d72b-ee88-4e65-ad4f-d235f9094217"
      },
      "source": [
        "def outer_func():\n",
        "    x = 'hello'\n",
        "    def inner_func():\n",
        "        print(x)\n",
        "    inner_func()\n",
        "outer_func()"
      ],
      "execution_count": null,
      "outputs": [
        {
          "output_type": "stream",
          "text": [
            "hello\n"
          ],
          "name": "stdout"
        }
      ]
    },
    {
      "cell_type": "code",
      "metadata": {
        "tags": [],
        "cell_id": "00035-1de5cde2-1402-4106-b2f2-836605f78bdb",
        "deepnote_to_be_reexecuted": false,
        "source_hash": "df596f62",
        "execution_start": 1623478300834,
        "execution_millis": 8,
        "deepnote_cell_type": "code",
        "id": "ueY9oY-j3-ca",
        "outputId": "dba233f3-019e-4dfe-953a-4935dc4a5b18"
      },
      "source": [
        "y = 'hello world'\n",
        "def outer_func():\n",
        "    def inner_func():\n",
        "        print(y)\n",
        "    inner_func()\n",
        "outer_func()"
      ],
      "execution_count": null,
      "outputs": [
        {
          "output_type": "stream",
          "text": [
            "hello world\n"
          ],
          "name": "stdout"
        }
      ]
    },
    {
      "cell_type": "code",
      "metadata": {
        "tags": [],
        "cell_id": "00035-4eaf9792-1998-41b2-8159-24327d8167b7",
        "deepnote_to_be_reexecuted": false,
        "source_hash": "15325b63",
        "execution_start": 1623478342177,
        "execution_millis": 7,
        "deepnote_cell_type": "code",
        "id": "Jyb8Cwif3-cb",
        "outputId": "555ca2bb-9c5b-4833-cf31-91c187be3181"
      },
      "source": [
        "y = 'hello world'\n",
        "def outer_func():\n",
        "    def inner_func():\n",
        "        def i_i_func():\n",
        "            print(y)\n",
        "        i_i_func()\n",
        "    inner_func()\n",
        "outer_func()"
      ],
      "execution_count": null,
      "outputs": [
        {
          "output_type": "stream",
          "text": [
            "hello world\n"
          ],
          "name": "stdout"
        }
      ]
    },
    {
      "cell_type": "code",
      "metadata": {
        "tags": [],
        "cell_id": "00036-a7ac8e1d-c1af-4026-9e63-d656c54da2a7",
        "deepnote_to_be_reexecuted": false,
        "source_hash": "72b306e",
        "execution_start": 1623478435141,
        "execution_millis": 19,
        "deepnote_cell_type": "code",
        "id": "BwZkMVJF3-cb",
        "outputId": "10c9711f-b5c0-46d8-bfdc-6c7fdf4096b2"
      },
      "source": [
        "y = 'hello world'\n",
        "def outer_func():\n",
        "    def inner_func():\n",
        "        def i_i_func():\n",
        "            print(y)\n",
        "        return i_i_func\n",
        "    return inner_func\n",
        "outer_func()()() #¯\\_(ツ)_/¯"
      ],
      "execution_count": null,
      "outputs": [
        {
          "output_type": "stream",
          "text": [
            "hello world\n"
          ],
          "name": "stdout"
        }
      ]
    },
    {
      "cell_type": "code",
      "metadata": {
        "tags": [],
        "cell_id": "00037-6affc933-a3b1-40ae-83de-b81f0e791b8b",
        "deepnote_to_be_reexecuted": false,
        "source_hash": "ff855615",
        "execution_start": 1623478506735,
        "execution_millis": 78,
        "deepnote_cell_type": "code",
        "id": "-ULvbkdj3-cc",
        "outputId": "7204ec48-067f-4d64-8218-61c51687d884"
      },
      "source": [
        "print(outer_func()())"
      ],
      "execution_count": null,
      "outputs": [
        {
          "output_type": "stream",
          "text": [
            "<function outer_func.<locals>.inner_func.<locals>.i_i_func at 0x7f4fd521d820>\n"
          ],
          "name": "stdout"
        }
      ]
    },
    {
      "cell_type": "code",
      "metadata": {
        "tags": [],
        "cell_id": "00038-0c3e2f73-794c-4160-8ab8-70de032caec5",
        "deepnote_to_be_reexecuted": false,
        "source_hash": "15d9fe7",
        "execution_start": 1623478638119,
        "execution_millis": 6,
        "deepnote_cell_type": "code",
        "id": "Zptm_VHW3-cc",
        "outputId": "84d7426f-e7c9-4e74-ed6b-15b8f2dc7a72"
      },
      "source": [
        "def outer():\n",
        "    x = \"Hello\"\n",
        "    def inner():\n",
        "        x = \"World\"\n",
        "        print(f\" we are inside inner {x}\")\n",
        "    inner()\n",
        "    print(x)\n",
        "\n",
        "outer()"
      ],
      "execution_count": null,
      "outputs": [
        {
          "output_type": "stream",
          "text": [
            " we are inside inner World\n",
            "Hello\n"
          ],
          "name": "stdout"
        }
      ]
    },
    {
      "cell_type": "code",
      "metadata": {
        "tags": [],
        "cell_id": "00039-9bad3a2e-ddf8-48fe-88db-e07240722cd2",
        "deepnote_to_be_reexecuted": false,
        "source_hash": "915abde",
        "execution_start": 1623478681794,
        "execution_millis": 13,
        "deepnote_cell_type": "code",
        "id": "l1Bt4EBP3-cd",
        "outputId": "d8f2181e-61b8-46e6-977a-ee60bd2eb5d3"
      },
      "source": [
        "def outer():\n",
        "    x = \"Hello\"\n",
        "    def inner():\n",
        "        global x\n",
        "        x = \"World\"\n",
        "    inner()\n",
        "    print(x)\n",
        "\n",
        "outer()"
      ],
      "execution_count": null,
      "outputs": [
        {
          "output_type": "stream",
          "text": [
            "Hello\n"
          ],
          "name": "stdout"
        }
      ]
    },
    {
      "cell_type": "code",
      "metadata": {
        "tags": [],
        "cell_id": "00040-aad4566e-f166-4534-8f37-758ad473d6f9",
        "deepnote_to_be_reexecuted": false,
        "source_hash": "f015f06",
        "execution_start": 1623478707357,
        "execution_millis": 7,
        "deepnote_cell_type": "code",
        "id": "bbqeuEZw3-cd",
        "outputId": "a87c330c-2027-4b2e-9b91-b6834daa875c"
      },
      "source": [
        "x = \"famous\"\n",
        "def outer():\n",
        "    x = \"Hello\"\n",
        "    def inner():\n",
        "        global x\n",
        "        x = \"World\"\n",
        "    inner()\n",
        "    print(x)\n",
        "\n",
        "outer()\n",
        "print(x)"
      ],
      "execution_count": null,
      "outputs": [
        {
          "output_type": "stream",
          "text": [
            "Hello\n",
            "World\n"
          ],
          "name": "stdout"
        }
      ]
    },
    {
      "cell_type": "code",
      "metadata": {
        "tags": [],
        "cell_id": "00041-966b892c-12e9-40d5-bbbb-8fe6a646291a",
        "deepnote_to_be_reexecuted": false,
        "source_hash": "e9691c5",
        "execution_start": 1623478774380,
        "execution_millis": 6,
        "deepnote_cell_type": "code",
        "id": "yn4PGPbG3-ce",
        "outputId": "0f82b072-1fe1-4204-b060-b70a7879f638"
      },
      "source": [
        "x = \"famous\"\n",
        "def outer():\n",
        "    x = \"Hello\"\n",
        "    def inner():\n",
        "        nonlocal x\n",
        "        x = \"World\"\n",
        "    inner()\n",
        "    print(x)\n",
        "\n",
        "outer()\n",
        "print(x)"
      ],
      "execution_count": null,
      "outputs": [
        {
          "output_type": "stream",
          "text": [
            "World\n",
            "famous\n"
          ],
          "name": "stdout"
        }
      ]
    },
    {
      "cell_type": "code",
      "metadata": {
        "tags": [],
        "cell_id": "00042-564c3d4f-6ae1-4782-9527-82fbfb1caa44",
        "deepnote_to_be_reexecuted": false,
        "source_hash": "f7578fd7",
        "execution_start": 1623478905942,
        "execution_millis": 5,
        "deepnote_cell_type": "code",
        "id": "u4SiWkHR3-cf",
        "outputId": "929431c8-7aea-442d-a808-a195aefd4373"
      },
      "source": [
        "def func1():\n",
        "    x = 'red'\n",
        "    def func2():\n",
        "        \n",
        "        def func3():\n",
        "            nonlocal x\n",
        "            x = \"blue\"\n",
        "        func3()\n",
        "    func2()\n",
        "    print(x)\n",
        "func1()"
      ],
      "execution_count": null,
      "outputs": [
        {
          "output_type": "stream",
          "text": [
            "blue\n"
          ],
          "name": "stdout"
        }
      ]
    },
    {
      "cell_type": "code",
      "metadata": {
        "tags": [],
        "cell_id": "00043-f854fbec-2d6d-4dd0-9d39-c7b89aef9b3d",
        "deepnote_to_be_reexecuted": false,
        "source_hash": "eaf5c118",
        "execution_start": 1623479071256,
        "execution_millis": 9,
        "deepnote_cell_type": "code",
        "id": "VmpnXwSd3-cf",
        "outputId": "3b4a9aec-9601-4397-9180-09cdaa3f0e76"
      },
      "source": [
        "def outer():\n",
        "    x = 'hello'\n",
        "    def inner1():\n",
        "        def inner2():\n",
        "            nonlocal x\n",
        "            x = 'python'\n",
        "        inner2()\n",
        "    inner1()\n",
        "    print(x)\n",
        "\n",
        "outer()"
      ],
      "execution_count": null,
      "outputs": [
        {
          "output_type": "stream",
          "text": [
            "python\n"
          ],
          "name": "stdout"
        }
      ]
    },
    {
      "cell_type": "code",
      "metadata": {
        "tags": [],
        "cell_id": "00044-8c04a790-5565-45cd-8da1-b0dbb46dff6e",
        "deepnote_to_be_reexecuted": false,
        "source_hash": "71d26892",
        "execution_start": 1623479155522,
        "execution_millis": 6,
        "deepnote_cell_type": "code",
        "id": "5H-NLkp_3-cg",
        "outputId": "d1a37f5a-e990-4f37-e2c9-04f616275b6d"
      },
      "source": [
        "def outer():\n",
        "    x = 'hello'\n",
        "    def inner1():\n",
        "        x = 'python'\n",
        "        def inner2():\n",
        "            nonlocal x\n",
        "            x = 'monty'\n",
        "        print('x (before):', x)\n",
        "        inner2()\n",
        "        print('x (after):', x)\n",
        "    inner1()\n",
        "    print('outer:', x)\n",
        "\n",
        "outer()"
      ],
      "execution_count": null,
      "outputs": [
        {
          "output_type": "stream",
          "text": [
            "x (before): python\n",
            "x (after): monty\n",
            "outer: hello\n"
          ],
          "name": "stdout"
        }
      ]
    },
    {
      "cell_type": "code",
      "metadata": {
        "tags": [],
        "cell_id": "00045-3d76ed80-3307-40ea-9db0-52604397a3df",
        "deepnote_to_be_reexecuted": false,
        "source_hash": "859732d4",
        "execution_start": 1623479251302,
        "execution_millis": 12,
        "deepnote_cell_type": "code",
        "id": "3w9kj2ca3-ch",
        "outputId": "706f9de9-d466-427d-eda7-29af1ba9eaf9"
      },
      "source": [
        "def outer():\n",
        "    x = 'hello'\n",
        "    def inner1():\n",
        "        nonlocal x\n",
        "        x = 'python'\n",
        "        def inner2():\n",
        "            nonlocal x\n",
        "            x = 'monty'\n",
        "        print('x (before):', x)\n",
        "        inner2()\n",
        "        print('x (after):', x)\n",
        "    inner1()\n",
        "    print('x:', x)\n",
        "\n",
        "outer()"
      ],
      "execution_count": null,
      "outputs": [
        {
          "output_type": "stream",
          "text": [
            "x (before): python\n",
            "x (after): monty\n",
            "x: monty\n"
          ],
          "name": "stdout"
        }
      ]
    },
    {
      "cell_type": "code",
      "metadata": {
        "tags": [],
        "cell_id": "00046-5452b405-3d11-4318-930e-b1316eec4215",
        "deepnote_to_be_reexecuted": false,
        "source_hash": "915c792b",
        "execution_start": 1623479321869,
        "execution_millis": 14,
        "deepnote_cell_type": "code",
        "id": "bUqgOoeG3-ch",
        "outputId": "32ca2816-45b5-41e9-8410-7c86b757f9be"
      },
      "source": [
        "x = '¯\\_(ツ)_/¯'\n",
        "def outer():\n",
        "    global x\n",
        "    x = 'hello'\n",
        "    def inner1():\n",
        "        nonlocal x\n",
        "        x = 'python'\n",
        "        def inner2():\n",
        "            nonlocal x\n",
        "            x = 'monty'\n",
        "        print('x (before):', x)\n",
        "        inner2()\n",
        "        print('x (after):', x)\n",
        "    inner1()\n",
        "    print('x:', x)\n",
        "\n",
        "outer()\n",
        "print('eventually x:', x)"
      ],
      "execution_count": null,
      "outputs": [
        {
          "output_type": "error",
          "ename": "SyntaxError",
          "evalue": "no binding for nonlocal 'x' found (<ipython-input-80-8c09cf066dbe>, line 6)",
          "traceback": [
            "\u001b[0;36m  File \u001b[0;32m\"<ipython-input-80-8c09cf066dbe>\"\u001b[0;36m, line \u001b[0;32m6\u001b[0m\n\u001b[0;31m    nonlocal x\u001b[0m\n\u001b[0m    ^\u001b[0m\n\u001b[0;31mSyntaxError\u001b[0m\u001b[0;31m:\u001b[0m no binding for nonlocal 'x' found\n"
          ]
        }
      ]
    },
    {
      "cell_type": "code",
      "metadata": {
        "tags": [],
        "cell_id": "00047-0484f37b-efd4-40c6-a0ca-b3dc5e45a4c7",
        "deepnote_to_be_reexecuted": false,
        "source_hash": "d5c0f63b",
        "execution_start": 1623479442862,
        "execution_millis": 5,
        "deepnote_cell_type": "code",
        "id": "UAbS82BL3-ci",
        "outputId": "9f183004-d4ad-4049-9914-31d7c7231868"
      },
      "source": [
        "x = 100\n",
        "def outer():\n",
        "    global x\n",
        "    x = 'python'\n",
        "    \n",
        "    def inner():\n",
        "        nonlocal x\n",
        "        x = 'monty'\n",
        "    inner()"
      ],
      "execution_count": null,
      "outputs": [
        {
          "output_type": "error",
          "ename": "SyntaxError",
          "evalue": "no binding for nonlocal 'x' found (<ipython-input-81-bb18bb9fec24>, line 7)",
          "traceback": [
            "\u001b[0;36m  File \u001b[0;32m\"<ipython-input-81-bb18bb9fec24>\"\u001b[0;36m, line \u001b[0;32m7\u001b[0m\n\u001b[0;31m    nonlocal x\u001b[0m\n\u001b[0m    ^\u001b[0m\n\u001b[0;31mSyntaxError\u001b[0m\u001b[0;31m:\u001b[0m no binding for nonlocal 'x' found\n"
          ]
        }
      ]
    },
    {
      "cell_type": "code",
      "metadata": {
        "tags": [],
        "cell_id": "00048-1360c1d1-ca60-4f07-845e-acc1ca83526a",
        "deepnote_to_be_reexecuted": false,
        "source_hash": "99a7f164",
        "execution_start": 1623479513628,
        "execution_millis": 7,
        "deepnote_cell_type": "code",
        "id": "6e3_7Ypc3-cj",
        "outputId": "32dc3193-7836-42e6-82b1-3127cd6cb246"
      },
      "source": [
        "xx = 100\n",
        "def func1():\n",
        "    def func2():\n",
        "        global xx\n",
        "        xx = 233\n",
        "    func2()\n",
        "func1()\n",
        "\n",
        "print(xx)"
      ],
      "execution_count": null,
      "outputs": [
        {
          "output_type": "stream",
          "text": [
            "233\n"
          ],
          "name": "stdout"
        }
      ]
    },
    {
      "cell_type": "markdown",
      "metadata": {
        "tags": [],
        "cell_id": "00049-ebdc9856-a70e-41ba-b6bf-8cc844f38231",
        "deepnote_cell_type": "text-cell-h1",
        "id": "s09i010a3-ck"
      },
      "source": [
        "# Closures"
      ]
    },
    {
      "cell_type": "code",
      "metadata": {
        "tags": [],
        "cell_id": "00049-554e8733-0354-47c5-b6b8-4fd2fba99691",
        "deepnote_to_be_reexecuted": false,
        "source_hash": "bc77a751",
        "execution_start": 1623480005239,
        "execution_millis": 2,
        "deepnote_cell_type": "code",
        "id": "8NXJDLnB3-ck"
      },
      "source": [
        "def outer():\n",
        "    x = 'python'\n",
        "    def inner():\n",
        "        print(x)\n",
        "    return inner"
      ],
      "execution_count": null,
      "outputs": []
    },
    {
      "cell_type": "code",
      "metadata": {
        "tags": [],
        "cell_id": "00050-c159cfcc-6f83-4660-be64-90d954ab09f2",
        "deepnote_to_be_reexecuted": false,
        "source_hash": "37d182a3",
        "execution_start": 1623480061720,
        "execution_millis": 0,
        "deepnote_cell_type": "code",
        "id": "6Eijz79y3-cl",
        "outputId": "fbedc4a2-9622-4591-f238-be62b1a8511e"
      },
      "source": [
        "print(outer())\n",
        "outer()()"
      ],
      "execution_count": null,
      "outputs": [
        {
          "output_type": "stream",
          "text": [
            "<function outer.<locals>.inner at 0x7f4fd521d1f0>\n",
            "python\n"
          ],
          "name": "stdout"
        }
      ]
    },
    {
      "cell_type": "code",
      "metadata": {
        "tags": [],
        "cell_id": "00052-f32ab754-eb9e-4ffa-9a6c-2d971742e628",
        "deepnote_to_be_reexecuted": false,
        "source_hash": "2c20ee0b",
        "execution_start": 1623480085812,
        "execution_millis": 6,
        "deepnote_cell_type": "code",
        "id": "KUx3IJDl3-cm",
        "outputId": "3fba5cb4-bb7d-4002-a58f-90fdda06ba65"
      },
      "source": [
        "def func():\n",
        "    return outer\n",
        "\n",
        "func()"
      ],
      "execution_count": null,
      "outputs": [
        {
          "output_type": "execute_result",
          "data": {
            "text/plain": [
              "<function __main__.outer()>"
            ]
          },
          "metadata": {
            "tags": []
          },
          "execution_count": 93
        }
      ]
    },
    {
      "cell_type": "code",
      "metadata": {
        "tags": [],
        "cell_id": "00053-518fd2fd-2f97-45a8-a968-277bc49644de",
        "deepnote_to_be_reexecuted": false,
        "source_hash": "bc77a751",
        "execution_start": 1623480094534,
        "execution_millis": 2,
        "deepnote_cell_type": "code",
        "id": "jjfhonX_3-cm"
      },
      "source": [
        "def outer():\n",
        "    x = 'python'\n",
        "    def inner():\n",
        "        print(x)\n",
        "    return inner"
      ],
      "execution_count": null,
      "outputs": []
    },
    {
      "cell_type": "code",
      "metadata": {
        "tags": [],
        "cell_id": "00054-5d6b85a3-891a-44c9-b1eb-9ea7401ab2fc",
        "deepnote_to_be_reexecuted": false,
        "source_hash": "2b8cd8d6",
        "execution_start": 1623480109005,
        "execution_millis": 1,
        "deepnote_cell_type": "code",
        "id": "_OrfdBaB3-cn"
      },
      "source": [
        "fn = outer()"
      ],
      "execution_count": null,
      "outputs": []
    },
    {
      "cell_type": "code",
      "metadata": {
        "tags": [],
        "cell_id": "00055-9ef961f3-bc43-4c03-bb5b-88ae3beb8ae7",
        "deepnote_to_be_reexecuted": false,
        "source_hash": "157e0e01",
        "execution_start": 1623480112045,
        "execution_millis": 8,
        "deepnote_cell_type": "code",
        "id": "w_1lLMKq3-cn",
        "outputId": "a4598046-7185-4cca-eb6d-665f68ed457d"
      },
      "source": [
        "fn()"
      ],
      "execution_count": null,
      "outputs": [
        {
          "output_type": "stream",
          "text": [
            "python\n"
          ],
          "name": "stdout"
        }
      ]
    },
    {
      "cell_type": "code",
      "metadata": {
        "tags": [],
        "cell_id": "00056-b73c746b-16f3-49a2-b135-9d6890435067",
        "deepnote_to_be_reexecuted": false,
        "source_hash": "f1c5e27a",
        "execution_start": 1623480137105,
        "execution_millis": 6,
        "deepnote_cell_type": "code",
        "id": "dfSQwMwS3-co",
        "outputId": "9d6df269-2f19-4bae-f76d-f93ca81c4b1e"
      },
      "source": [
        "fn.__code__.co_freevars"
      ],
      "execution_count": null,
      "outputs": [
        {
          "output_type": "execute_result",
          "data": {
            "text/plain": [
              "('x',)"
            ]
          },
          "metadata": {
            "tags": []
          },
          "execution_count": 99
        }
      ]
    },
    {
      "cell_type": "code",
      "metadata": {
        "tags": [],
        "cell_id": "00057-0d02f521-cd2e-493f-b7db-ad67be37f36d",
        "deepnote_to_be_reexecuted": false,
        "source_hash": "a666581b",
        "execution_start": 1623480171885,
        "execution_millis": 19,
        "deepnote_cell_type": "code",
        "id": "960GY04X3-co",
        "outputId": "a5e8ab93-eb6f-4c30-8fd3-5d82a238c70c"
      },
      "source": [
        "help(fn)"
      ],
      "execution_count": null,
      "outputs": [
        {
          "output_type": "stream",
          "text": [
            "Help on function inner in module __main__:\n",
            "\n",
            "inner()\n",
            "\n"
          ],
          "name": "stdout"
        }
      ]
    },
    {
      "cell_type": "code",
      "metadata": {
        "tags": [],
        "cell_id": "00058-10a4fecb-b085-4816-b474-8069c0dc260f",
        "deepnote_to_be_reexecuted": false,
        "source_hash": "26d91c0b",
        "execution_start": 1623480211785,
        "execution_millis": 9,
        "deepnote_cell_type": "code",
        "id": "fRalQ6Ms3-cp",
        "outputId": "7abe9eae-edbe-43ca-d662-4a62ebc74429"
      },
      "source": [
        "fn.__closure__"
      ],
      "execution_count": null,
      "outputs": [
        {
          "output_type": "execute_result",
          "data": {
            "text/plain": [
              "(<cell at 0x7f4fd5982250: str object at 0x7f50097269b0>,)"
            ]
          },
          "metadata": {
            "tags": []
          },
          "execution_count": 101
        }
      ]
    },
    {
      "cell_type": "code",
      "metadata": {
        "tags": [],
        "cell_id": "00059-d6b12ffc-b428-45ac-8736-22b17f94a093",
        "deepnote_to_be_reexecuted": false,
        "source_hash": "4772844f",
        "execution_start": 1623480535600,
        "execution_millis": 15,
        "deepnote_cell_type": "code",
        "id": "23IT2bUB3-cp",
        "outputId": "0c3ff2f6-8e1e-4a46-ee54-23930f35d52b"
      },
      "source": [
        "def outer():\n",
        "    x = [1, 2, 3]\n",
        "    y = \"dianasaur\"\n",
        "    print(f'in the outer function the address of x is {hex(id(x))}')\n",
        "    def inner():\n",
        "        print(f'in the inner function the address of x is {hex(id(x))}')\n",
        "        print(x)\n",
        "        print(y)\n",
        "    return inner\n",
        "\n",
        "fn = outer()\n"
      ],
      "execution_count": null,
      "outputs": [
        {
          "output_type": "stream",
          "text": [
            "in the outer function the address of x is 0x7f4fd5554b80\n"
          ],
          "name": "stdout"
        }
      ]
    },
    {
      "cell_type": "code",
      "metadata": {
        "tags": [],
        "cell_id": "00060-ac584db6-2124-4252-8adc-edeafb2b97bb",
        "deepnote_to_be_reexecuted": false,
        "source_hash": "26d91c0b",
        "execution_start": 1623480536722,
        "execution_millis": 6,
        "deepnote_cell_type": "code",
        "id": "VJBuU2ll3-cq",
        "outputId": "286743e9-a52a-47fb-8570-f6c6a2082a8a"
      },
      "source": [
        "fn.__closure__"
      ],
      "execution_count": null,
      "outputs": [
        {
          "output_type": "execute_result",
          "data": {
            "text/plain": [
              "(<cell at 0x7f4fd597f250: list object at 0x7f4fd5554b80>,\n",
              " <cell at 0x7f4fd597f1f0: str object at 0x7f4fd53c9a30>)"
            ]
          },
          "metadata": {
            "tags": []
          },
          "execution_count": 107
        }
      ]
    },
    {
      "cell_type": "code",
      "metadata": {
        "tags": [],
        "cell_id": "00061-949af484-419d-4fe1-981d-db20aca10795",
        "deepnote_to_be_reexecuted": false,
        "source_hash": "7afd5268",
        "execution_start": 1623480564865,
        "execution_millis": 6,
        "deepnote_cell_type": "code",
        "id": "iGJHX7He3-cq",
        "outputId": "03b27ffc-b7eb-4c4c-cc19-1b5c2ea9c8d2"
      },
      "source": [
        "def funcI():\n",
        "    x = [1, 2, 3]\n",
        "    \n",
        "\n",
        "funcI()\n",
        "print(x)"
      ],
      "execution_count": null,
      "outputs": [
        {
          "output_type": "stream",
          "text": [
            "100\n"
          ],
          "name": "stdout"
        }
      ]
    },
    {
      "cell_type": "code",
      "metadata": {
        "tags": [],
        "cell_id": "00062-ba007472-3145-4763-bc17-f8e9d57a5acb",
        "deepnote_to_be_reexecuted": false,
        "source_hash": "73fd09c4",
        "execution_start": 1623480632025,
        "execution_millis": 16,
        "deepnote_cell_type": "code",
        "id": "20JtrGtM3-cr",
        "outputId": "0dac4168-de49-444f-bb7f-e237f037b084"
      },
      "source": [
        "def funcI():\n",
        "    x = [1, 2, 3]\n",
        "    print(hex(id(x)))\n",
        "    def funcII():\n",
        "        print(x)\n",
        "    return funcII\n",
        "\n",
        "fn = funcI()\n",
        "fn.__closure__"
      ],
      "execution_count": null,
      "outputs": [
        {
          "output_type": "stream",
          "text": [
            "0x7f4fd55cc7c0\n"
          ],
          "name": "stdout"
        },
        {
          "output_type": "execute_result",
          "data": {
            "text/plain": [
              "(<cell at 0x7f4fd55df5e0: list object at 0x7f4fd55cc7c0>,)"
            ]
          },
          "metadata": {
            "tags": []
          },
          "execution_count": 110
        }
      ]
    },
    {
      "cell_type": "code",
      "metadata": {
        "tags": [],
        "cell_id": "00063-8d33b1e4-0a32-476c-b87d-54d065c0c110",
        "deepnote_to_be_reexecuted": false,
        "source_hash": "4275a277",
        "execution_start": 1623480947362,
        "execution_millis": 1,
        "deepnote_cell_type": "code",
        "id": "y8aygO8u3-cr"
      },
      "source": [
        "count = 1231231\n",
        "def counter():\n",
        "    count = 0\n",
        "    def inc():\n",
        "        nonlocal count\n",
        "        count += 1\n",
        "        return count\n",
        "    return inc"
      ],
      "execution_count": null,
      "outputs": []
    },
    {
      "cell_type": "code",
      "metadata": {
        "tags": [],
        "cell_id": "00064-ecc30987-5964-48ea-ba77-2266d076acaf",
        "deepnote_to_be_reexecuted": false,
        "source_hash": "53c7fb10",
        "execution_start": 1623480972604,
        "execution_millis": 4,
        "deepnote_cell_type": "code",
        "id": "imW5Ckl_3-cs"
      },
      "source": [
        "c = counter()"
      ],
      "execution_count": null,
      "outputs": []
    },
    {
      "cell_type": "code",
      "metadata": {
        "tags": [],
        "cell_id": "00065-72bdcb4b-e28c-46b1-b68c-d6490de8264a",
        "deepnote_to_be_reexecuted": false,
        "source_hash": "f604492c",
        "execution_start": 1623480975393,
        "execution_millis": 9,
        "deepnote_cell_type": "code",
        "id": "rqjINERD3-cs",
        "outputId": "24e9ec81-19a5-4f21-875b-9e7a5e8f6a20"
      },
      "source": [
        "c()"
      ],
      "execution_count": null,
      "outputs": [
        {
          "output_type": "execute_result",
          "data": {
            "text/plain": [
              "1"
            ]
          },
          "metadata": {
            "tags": []
          },
          "execution_count": 114
        }
      ]
    },
    {
      "cell_type": "code",
      "metadata": {
        "tags": [],
        "cell_id": "00066-6453d45e-6fdb-4af3-b8a7-02d5d733c864",
        "deepnote_to_be_reexecuted": false,
        "source_hash": "f604492c",
        "execution_start": 1623480979374,
        "execution_millis": 8,
        "deepnote_cell_type": "code",
        "id": "QUz6l5gA3-ct",
        "outputId": "63d6694b-3894-43d2-d0aa-1ce9b28f917b"
      },
      "source": [
        "c()"
      ],
      "execution_count": null,
      "outputs": [
        {
          "output_type": "execute_result",
          "data": {
            "text/plain": [
              "2"
            ]
          },
          "metadata": {
            "tags": []
          },
          "execution_count": 115
        }
      ]
    },
    {
      "cell_type": "code",
      "metadata": {
        "tags": [],
        "cell_id": "00067-1b8d7284-fffd-46be-ae7c-af999e2e4180",
        "deepnote_to_be_reexecuted": false,
        "source_hash": "f604492c",
        "execution_start": 1623480981980,
        "execution_millis": 9,
        "deepnote_cell_type": "code",
        "id": "TRKFr_5M3-ct",
        "outputId": "743d29d0-ff71-4f62-ba30-3a9a7751981e"
      },
      "source": [
        "c()"
      ],
      "execution_count": null,
      "outputs": [
        {
          "output_type": "execute_result",
          "data": {
            "text/plain": [
              "3"
            ]
          },
          "metadata": {
            "tags": []
          },
          "execution_count": 116
        }
      ]
    },
    {
      "cell_type": "code",
      "metadata": {
        "tags": [],
        "cell_id": "00068-8ebc0c1e-180d-4684-9475-d655fa8df91c",
        "deepnote_to_be_reexecuted": false,
        "source_hash": "c9e1c17f",
        "execution_start": 1623480987395,
        "execution_millis": 16,
        "deepnote_cell_type": "code",
        "id": "POqxfwkM3-cu",
        "outputId": "a12f073b-afda-43f0-ee2c-6428b8324284"
      },
      "source": [
        "c.__closure__"
      ],
      "execution_count": null,
      "outputs": [
        {
          "output_type": "execute_result",
          "data": {
            "text/plain": [
              "(<cell at 0x7f4fd55b2910: int object at 0x7f500a926140>,)"
            ]
          },
          "metadata": {
            "tags": []
          },
          "execution_count": 117
        }
      ]
    },
    {
      "cell_type": "code",
      "metadata": {
        "tags": [],
        "cell_id": "00069-ccc4d0c4-d665-4471-8aa5-51124c6be85c",
        "deepnote_to_be_reexecuted": false,
        "source_hash": "568e7f40",
        "execution_start": 1623481038209,
        "execution_millis": 14,
        "deepnote_cell_type": "code",
        "id": "7QYw7z5c3-cu",
        "outputId": "43b07974-15ab-4987-e688-6d423f2edafe"
      },
      "source": [
        "del c\n",
        "c()"
      ],
      "execution_count": null,
      "outputs": [
        {
          "output_type": "error",
          "ename": "NameError",
          "evalue": "name 'c' is not defined",
          "traceback": [
            "\u001b[0;31m---------------------------------------------------------------------------\u001b[0m",
            "\u001b[0;31mNameError\u001b[0m                                 Traceback (most recent call last)",
            "\u001b[0;32m<ipython-input-118-ffc6dd321ce3>\u001b[0m in \u001b[0;36m<module>\u001b[0;34m\u001b[0m\n\u001b[1;32m      1\u001b[0m \u001b[0;32mdel\u001b[0m \u001b[0mc\u001b[0m\u001b[0;34m\u001b[0m\u001b[0;34m\u001b[0m\u001b[0m\n\u001b[0;32m----> 2\u001b[0;31m \u001b[0mc\u001b[0m\u001b[0;34m(\u001b[0m\u001b[0;34m)\u001b[0m\u001b[0;34m\u001b[0m\u001b[0;34m\u001b[0m\u001b[0m\n\u001b[0m",
            "\u001b[0;31mNameError\u001b[0m: name 'c' is not defined"
          ]
        }
      ]
    },
    {
      "cell_type": "code",
      "metadata": {
        "tags": [],
        "cell_id": "00070-1166f17b-9156-428c-8599-656d3fc218d8",
        "deepnote_to_be_reexecuted": false,
        "source_hash": "4b3c687c",
        "execution_start": 1623481058971,
        "execution_millis": 9,
        "deepnote_cell_type": "code",
        "id": "g0pUTBQc3-cv",
        "outputId": "67d51fd8-2966-4ed5-cc84-da02550e3368"
      },
      "source": [
        "d = counter()\n",
        "d()"
      ],
      "execution_count": null,
      "outputs": [
        {
          "output_type": "execute_result",
          "data": {
            "text/plain": [
              "1"
            ]
          },
          "metadata": {
            "tags": []
          },
          "execution_count": 120
        }
      ]
    },
    {
      "cell_type": "code",
      "metadata": {
        "tags": [],
        "cell_id": "00071-58aee872-9e80-4330-ab52-e2f4431b663a",
        "deepnote_to_be_reexecuted": false,
        "source_hash": "e5e3849f",
        "execution_start": 1623481179069,
        "execution_millis": 1,
        "deepnote_cell_type": "code",
        "id": "PFIXnG0K3-cw"
      },
      "source": [
        "def outer():\n",
        "    count = 0\n",
        "    def inc1():\n",
        "        nonlocal count\n",
        "        count += 1\n",
        "        return count\n",
        "    \n",
        "    def inc2():\n",
        "        nonlocal count\n",
        "        count += 2\n",
        "        return count\n",
        "\n",
        "    return inc1, inc2\n"
      ],
      "execution_count": null,
      "outputs": []
    },
    {
      "cell_type": "code",
      "metadata": {
        "tags": [],
        "cell_id": "00072-65a3a49a-87cd-4cc4-9c67-2cf90c02f16f",
        "deepnote_to_be_reexecuted": false,
        "source_hash": "64a38da2",
        "execution_start": 1623481345834,
        "execution_millis": 0,
        "deepnote_cell_type": "code",
        "id": "LZPtailq3-cw"
      },
      "source": [
        "fn1, fn2 = outer()"
      ],
      "execution_count": null,
      "outputs": []
    },
    {
      "cell_type": "code",
      "metadata": {
        "tags": [],
        "cell_id": "00073-26be1053-243c-4eb0-82d1-3363950f4b7d",
        "deepnote_to_be_reexecuted": false,
        "source_hash": "dd435ff7",
        "execution_start": 1623481351836,
        "execution_millis": 17,
        "deepnote_cell_type": "code",
        "id": "DVx3ewZS3-cx",
        "outputId": "73538bb9-f83f-43d2-ff9f-8f80d41f84ba"
      },
      "source": [
        "fn1.__closure__, fn2.__closure__"
      ],
      "execution_count": null,
      "outputs": [
        {
          "output_type": "execute_result",
          "data": {
            "text/plain": [
              "((<cell at 0x7f4fd59cb910: int object at 0x7f500a9260e0>,),\n",
              " (<cell at 0x7f4fd59cb910: int object at 0x7f500a9260e0>,))"
            ]
          },
          "metadata": {
            "tags": []
          },
          "execution_count": 126
        }
      ]
    },
    {
      "cell_type": "code",
      "metadata": {
        "tags": [],
        "cell_id": "00074-31a10ca6-8c9d-4158-8a91-59f603acc6a2",
        "deepnote_to_be_reexecuted": false,
        "source_hash": "54e0e44a",
        "execution_start": 1623481362348,
        "execution_millis": 10,
        "deepnote_cell_type": "code",
        "id": "ZS67tMbu3-cx",
        "outputId": "f56cda95-7dfe-45b7-814b-9cce101c1c6e"
      },
      "source": [
        "fn1()"
      ],
      "execution_count": null,
      "outputs": [
        {
          "output_type": "execute_result",
          "data": {
            "text/plain": [
              "1"
            ]
          },
          "metadata": {
            "tags": []
          },
          "execution_count": 127
        }
      ]
    },
    {
      "cell_type": "code",
      "metadata": {
        "tags": [],
        "cell_id": "00075-7dd490c5-5152-4ce9-ba70-2783b6268cf0",
        "deepnote_to_be_reexecuted": false,
        "source_hash": "54e0e44a",
        "execution_start": 1623481373088,
        "execution_millis": 10,
        "deepnote_cell_type": "code",
        "id": "tYx31bzW3-cy",
        "outputId": "9b6debf6-8d8e-4330-9e35-2e589626fd93"
      },
      "source": [
        "fn1()"
      ],
      "execution_count": null,
      "outputs": [
        {
          "output_type": "execute_result",
          "data": {
            "text/plain": [
              "2"
            ]
          },
          "metadata": {
            "tags": []
          },
          "execution_count": 128
        }
      ]
    },
    {
      "cell_type": "code",
      "metadata": {
        "tags": [],
        "cell_id": "00076-1dc69a8e-7566-4a3c-a3e5-b8c0153ee19e",
        "deepnote_to_be_reexecuted": false,
        "source_hash": "a147bf85",
        "execution_start": 1623481384510,
        "execution_millis": 10,
        "deepnote_cell_type": "code",
        "id": "HC2TjkaZ3-cy",
        "outputId": "d5331882-411e-4a5e-b003-f8f5506ddc66"
      },
      "source": [
        "fn2()"
      ],
      "execution_count": null,
      "outputs": [
        {
          "output_type": "execute_result",
          "data": {
            "text/plain": [
              "4"
            ]
          },
          "metadata": {
            "tags": []
          },
          "execution_count": 129
        }
      ]
    },
    {
      "cell_type": "code",
      "metadata": {
        "tags": [],
        "cell_id": "00077-7f54dca7-b96a-4439-a412-9415c978e5f8",
        "deepnote_to_be_reexecuted": false,
        "source_hash": "28eabb3f",
        "execution_start": 1623481507666,
        "execution_millis": 3,
        "deepnote_cell_type": "code",
        "id": "rHGryqTU3-cz"
      },
      "source": [
        "def facebook():\n",
        "    you = 'unknown'\n",
        "    def name():\n",
        "        nonlocal you\n",
        "        return you\n",
        "    def location():\n",
        "        nonlocal you\n",
        "        return you\n",
        "    def money():\n",
        "        nonlocal you\n",
        "        return you\n",
        "    return name, location, money"
      ],
      "execution_count": null,
      "outputs": []
    },
    {
      "cell_type": "code",
      "metadata": {
        "tags": [],
        "cell_id": "00078-79441739-87a7-4fb3-8912-468a609081ed",
        "deepnote_to_be_reexecuted": false,
        "source_hash": "4847d1bb",
        "execution_start": 1623481531911,
        "execution_millis": 1,
        "deepnote_cell_type": "code",
        "id": "nStexnSb3-cz"
      },
      "source": [
        "name, location, money = facebook()"
      ],
      "execution_count": null,
      "outputs": []
    },
    {
      "cell_type": "code",
      "metadata": {
        "tags": [],
        "cell_id": "00079-2248e24f-e72b-45da-832c-7263ad5c3364",
        "deepnote_to_be_reexecuted": false,
        "source_hash": "cbe132de",
        "execution_start": 1623481552510,
        "execution_millis": 8,
        "deepnote_cell_type": "code",
        "id": "W20Sq7mv3-c0",
        "outputId": "d55fb464-81f5-49fc-ecb6-600aef454f87"
      },
      "source": [
        "name.__closure__"
      ],
      "execution_count": null,
      "outputs": [
        {
          "output_type": "execute_result",
          "data": {
            "text/plain": [
              "(<cell at 0x7f4fd5978220: str object at 0x7f5009e2a3b0>,)"
            ]
          },
          "metadata": {
            "tags": []
          },
          "execution_count": 135
        }
      ]
    },
    {
      "cell_type": "code",
      "metadata": {
        "tags": [],
        "cell_id": "00080-5461ee8b-bc3a-45d6-b965-efd193a7c1cc",
        "deepnote_to_be_reexecuted": false,
        "source_hash": "23ede054",
        "execution_start": 1623481687236,
        "execution_millis": 10,
        "deepnote_cell_type": "code",
        "id": "l7kZxLDk3-c1",
        "outputId": "e2e0a8a0-76bc-4bc5-cd5d-b17d9a245ffb"
      },
      "source": [
        "def authentification(fn, *args, password):\n",
        "    if password == \"rohan\":\n",
        "        return fn(*args)\n",
        "    else:\n",
        "        return '🤣'\n",
        "\n",
        "def sum(x, y):\n",
        "    return x + y\n",
        "\n",
        "authentification(sum, 4, 5, password = \"mohan\")\n"
      ],
      "execution_count": null,
      "outputs": [
        {
          "output_type": "execute_result",
          "data": {
            "text/plain": [
              "'🤣'"
            ]
          },
          "metadata": {
            "tags": []
          },
          "execution_count": 140
        }
      ]
    },
    {
      "cell_type": "code",
      "metadata": {
        "tags": [],
        "cell_id": "00081-8f0729c6-14aa-4a5f-9638-07f56434021c",
        "deepnote_to_be_reexecuted": false,
        "source_hash": "6b26f041",
        "execution_start": 1623481811511,
        "execution_millis": 7,
        "deepnote_cell_type": "code",
        "id": "NIE3Olq23-c2",
        "outputId": "4e023362-ebb4-43f0-ffca-1b36267dc847"
      },
      "source": [
        "from time import perf_counter\n",
        "\n",
        "def func():\n",
        "    x = perf_counter()\n",
        "    print(x, id(x))\n",
        "\n",
        "func()"
      ],
      "execution_count": null,
      "outputs": [
        {
          "output_type": "stream",
          "text": [
            "38566.146278261 139980859356208\n"
          ],
          "name": "stdout"
        }
      ]
    },
    {
      "cell_type": "code",
      "metadata": {
        "tags": [],
        "cell_id": "00082-a10ff9c4-166e-4a4f-a1f1-ac62b22c6682",
        "deepnote_to_be_reexecuted": false,
        "source_hash": "738485f1",
        "execution_start": 1623481819026,
        "execution_millis": 14,
        "deepnote_cell_type": "code",
        "id": "Q6fsanbg3-c2",
        "outputId": "f14601a6-83fc-456d-8397-4297048fd7d6"
      },
      "source": [
        "func()"
      ],
      "execution_count": null,
      "outputs": [
        {
          "output_type": "stream",
          "text": [
            "38573.660404099 139980854430448\n"
          ],
          "name": "stdout"
        }
      ]
    },
    {
      "cell_type": "code",
      "metadata": {
        "tags": [],
        "cell_id": "00083-5b812253-da86-4fc4-b0ff-3c2f15f626cc",
        "deepnote_to_be_reexecuted": false,
        "source_hash": "738485f1",
        "execution_start": 1623481822062,
        "execution_millis": 8,
        "deepnote_cell_type": "code",
        "id": "6f4snUqc3-c3",
        "outputId": "8439d5a8-7e9f-481a-e71b-a121c53f9ee1"
      },
      "source": [
        "func()"
      ],
      "execution_count": null,
      "outputs": [
        {
          "output_type": "stream",
          "text": [
            "38576.698040764 139980858684112\n"
          ],
          "name": "stdout"
        }
      ]
    },
    {
      "cell_type": "code",
      "metadata": {
        "tags": [],
        "cell_id": "00084-712cd36b-cf89-4f77-a78b-6796726caea1",
        "deepnote_to_be_reexecuted": false,
        "source_hash": "a205779d",
        "execution_start": 1623481869765,
        "execution_millis": 0,
        "deepnote_cell_type": "code",
        "id": "xuFTDoLa3-c3"
      },
      "source": [
        "def pow(n):\n",
        "    # n is local to power\n",
        "    def inner(x):\n",
        "        # x is local to inner\n",
        "        return x ** n\n",
        "    return inner"
      ],
      "execution_count": null,
      "outputs": []
    },
    {
      "cell_type": "code",
      "metadata": {
        "tags": [],
        "cell_id": "00085-2de633bb-0a9f-44e3-ba5e-38a774ed5178",
        "deepnote_to_be_reexecuted": false,
        "source_hash": "eaa142c2",
        "execution_start": 1623481901348,
        "execution_millis": 9,
        "deepnote_cell_type": "code",
        "id": "P8ZikkJf3-c4",
        "outputId": "2daf542c-a5e5-4e57-d7de-6de43923c013"
      },
      "source": [
        "square = pow(2)\n",
        "square(4)"
      ],
      "execution_count": null,
      "outputs": [
        {
          "output_type": "execute_result",
          "data": {
            "text/plain": [
              "16"
            ]
          },
          "metadata": {
            "tags": []
          },
          "execution_count": 151
        }
      ]
    },
    {
      "cell_type": "code",
      "metadata": {
        "tags": [],
        "cell_id": "00086-aaee356a-6113-4b26-870e-07cc4a8d02d3",
        "deepnote_to_be_reexecuted": false,
        "source_hash": "8a2f913f",
        "execution_start": 1623481915839,
        "execution_millis": 9,
        "deepnote_cell_type": "code",
        "id": "L67HD4Ei3-c4",
        "outputId": "b2438664-68aa-438b-f119-9111d7a90dec"
      },
      "source": [
        "cube = pow(3)\n",
        "cube(4)"
      ],
      "execution_count": null,
      "outputs": [
        {
          "output_type": "execute_result",
          "data": {
            "text/plain": [
              "64"
            ]
          },
          "metadata": {
            "tags": []
          },
          "execution_count": 152
        }
      ]
    },
    {
      "cell_type": "code",
      "metadata": {
        "tags": [],
        "cell_id": "00087-a198a28c-2e8c-4409-96a1-a5fbc26ec6cc",
        "deepnote_to_be_reexecuted": false,
        "source_hash": "a6967bea",
        "execution_start": 1623482005602,
        "execution_millis": 2,
        "deepnote_cell_type": "code",
        "id": "O3t2X5033-c5"
      },
      "source": [
        "def adder(n):\n",
        "    def inner(x):\n",
        "        return x + n\n",
        "    return inner\n",
        "\n",
        "add_1 = adder(1)\n",
        "add_2 = adder(2)\n",
        "add_3 = adder(3)\n",
        "add_4 = adder(4)"
      ],
      "execution_count": null,
      "outputs": []
    },
    {
      "cell_type": "code",
      "metadata": {
        "tags": [],
        "cell_id": "00088-140a2417-8d17-48b6-bfad-74d512b781bb",
        "deepnote_to_be_reexecuted": false,
        "source_hash": "40b56fd1",
        "execution_start": 1623482057139,
        "execution_millis": 9,
        "deepnote_cell_type": "code",
        "id": "XmBNTutt3-c5",
        "outputId": "e022dea3-67e3-4e8b-f28b-de66931e952d"
      },
      "source": [
        "add_1(10), add_2(10), add_3(10), add_4(10)"
      ],
      "execution_count": null,
      "outputs": [
        {
          "output_type": "execute_result",
          "data": {
            "text/plain": [
              "(11, 12, 13, 14)"
            ]
          },
          "metadata": {
            "tags": []
          },
          "execution_count": 154
        }
      ]
    },
    {
      "cell_type": "code",
      "metadata": {
        "tags": [],
        "cell_id": "00089-15a2cd33-9d7d-4683-86bf-391d35bf63e9",
        "deepnote_to_be_reexecuted": false,
        "source_hash": "51c4657f",
        "execution_start": 1623482105372,
        "execution_millis": 11,
        "deepnote_cell_type": "code",
        "id": "0C2Y74EQ3-c6",
        "outputId": "71d74b99-d785-468f-dec6-b35614e56e78"
      },
      "source": [
        "def outer(count = 0):\n",
        "    def inc1():\n",
        "        nonlocal count\n",
        "        count += 1\n",
        "        return count\n",
        "    \n",
        "    def inc2():\n",
        "        nonlocal count\n",
        "        count += 2\n",
        "        return count\n",
        "\n",
        "    return inc1, inc2\n",
        "\n",
        "i1, i2 = outer()\n",
        "i1(), i1(), i2()"
      ],
      "execution_count": null,
      "outputs": [
        {
          "output_type": "execute_result",
          "data": {
            "text/plain": [
              "(1, 2, 4)"
            ]
          },
          "metadata": {
            "tags": []
          },
          "execution_count": 155
        }
      ]
    },
    {
      "cell_type": "code",
      "metadata": {
        "tags": [],
        "cell_id": "00090-bba56d1e-9348-431c-aa5d-c17da0fac898",
        "deepnote_to_be_reexecuted": false,
        "source_hash": "ca7e6dc1",
        "execution_start": 1623482262240,
        "execution_millis": 0,
        "deepnote_cell_type": "code",
        "id": "toicgFVm3-c6",
        "outputId": "baf3c764-8a9d-4232-f849-068de2fde258"
      },
      "source": [
        "def incrementer(n):\n",
        "    def inner(start):\n",
        "        current = start\n",
        "        def inc():\n",
        "            a = 10 # local var\n",
        "            nonlocal current\n",
        "            current += n\n",
        "            return current\n",
        "        return inc\n",
        "    return inner\n",
        "\n",
        "fn = incrementer(2)\n",
        "\n",
        "fn.__code__.co_freevars, fn.__closure__\n",
        "\n"
      ],
      "execution_count": null,
      "outputs": [
        {
          "output_type": "execute_result",
          "data": {
            "text/plain": [
              "(('n',), (<cell at 0x7f4fd5185a90: int object at 0x7f500a926120>,))"
            ]
          },
          "metadata": {
            "tags": []
          },
          "execution_count": 160
        }
      ]
    },
    {
      "cell_type": "code",
      "metadata": {
        "tags": [],
        "cell_id": "00091-f2d8ef69-0ad1-4722-a3c2-7d03fd4526ee",
        "deepnote_to_be_reexecuted": false,
        "source_hash": "fe1c37aa",
        "execution_start": 1623482276371,
        "execution_millis": 1,
        "deepnote_cell_type": "code",
        "id": "jHGTsHCF3-c7"
      },
      "source": [
        "inc_2 = fn(100)"
      ],
      "execution_count": null,
      "outputs": []
    },
    {
      "cell_type": "code",
      "metadata": {
        "tags": [],
        "cell_id": "00092-8cbb7c3e-c54b-49b1-b684-4128897d2b46",
        "deepnote_to_be_reexecuted": false,
        "source_hash": "10e63aea",
        "execution_start": 1623482305453,
        "execution_millis": 57,
        "deepnote_cell_type": "code",
        "id": "K-LJbQSH3-c7",
        "outputId": "ec96493b-4277-4db9-a3fb-d85dced60d63"
      },
      "source": [
        "inc_2.__code__.co_freevars, inc_2.__closure__"
      ],
      "execution_count": null,
      "outputs": [
        {
          "output_type": "execute_result",
          "data": {
            "text/plain": [
              "(('current', 'n'),\n",
              " (<cell at 0x7f4fd542bee0: int object at 0x7f500a926d60>,\n",
              "  <cell at 0x7f4fd5185a90: int object at 0x7f500a926120>))"
            ]
          },
          "metadata": {
            "tags": []
          },
          "execution_count": 164
        }
      ]
    },
    {
      "cell_type": "code",
      "metadata": {
        "tags": [],
        "cell_id": "00093-67ff2215-145f-487c-b272-7bdae364534e",
        "deepnote_to_be_reexecuted": false,
        "source_hash": "733afdf1",
        "execution_start": 1623482327885,
        "execution_millis": 9,
        "deepnote_cell_type": "code",
        "id": "4fUgJxB03-c8",
        "outputId": "298d6b14-1d81-4814-d0e6-ae49b2fe8799"
      },
      "source": [
        "inc_2()"
      ],
      "execution_count": null,
      "outputs": [
        {
          "output_type": "execute_result",
          "data": {
            "text/plain": [
              "102"
            ]
          },
          "metadata": {
            "tags": []
          },
          "execution_count": 165
        }
      ]
    },
    {
      "cell_type": "code",
      "metadata": {
        "tags": [],
        "cell_id": "00094-bb0af251-8dd3-41e2-b986-2a73fb92788f",
        "deepnote_to_be_reexecuted": false,
        "source_hash": "733afdf1",
        "execution_start": 1623482351824,
        "execution_millis": 9,
        "deepnote_cell_type": "code",
        "id": "CJj87I7J3-c8",
        "outputId": "1c5bf9fb-7b3a-487c-9fea-67e50f2fb232"
      },
      "source": [
        "inc_2()"
      ],
      "execution_count": null,
      "outputs": [
        {
          "output_type": "execute_result",
          "data": {
            "text/plain": [
              "104"
            ]
          },
          "metadata": {
            "tags": []
          },
          "execution_count": 166
        }
      ]
    },
    {
      "cell_type": "code",
      "metadata": {
        "tags": [],
        "cell_id": "00095-1e3e8a1e-15be-4fa9-a345-f99ad0e69668",
        "deepnote_to_be_reexecuted": false,
        "source_hash": "733afdf1",
        "execution_start": 1623482357119,
        "execution_millis": 11,
        "deepnote_cell_type": "code",
        "id": "FcxOrXhD3-c9",
        "outputId": "c68c6c90-af05-4ecc-880f-65c9f20cac75"
      },
      "source": [
        "inc_2()"
      ],
      "execution_count": null,
      "outputs": [
        {
          "output_type": "execute_result",
          "data": {
            "text/plain": [
              "106"
            ]
          },
          "metadata": {
            "tags": []
          },
          "execution_count": 167
        }
      ]
    },
    {
      "cell_type": "code",
      "metadata": {
        "tags": [],
        "cell_id": "00096-703b28e5-935c-4868-8888-2f86d8ce4660",
        "deepnote_to_be_reexecuted": false,
        "source_hash": "911eaa62",
        "execution_start": 1623482525979,
        "execution_millis": 11,
        "deepnote_cell_type": "code",
        "id": "IVzkIksT3-c9",
        "outputId": "70a2fa1e-226e-4fc2-e81b-9c6b805ee085"
      },
      "source": [
        "# del sum\n",
        "class Averager:\n",
        "    def __init__(self):\n",
        "        self.numbers = []\n",
        "\n",
        "    def add(self, number):\n",
        "        self.numbers.append(number)\n",
        "        total = sum(self.numbers)\n",
        "        count = len(self.numbers)\n",
        "        return total/count\n",
        "a = Averager()\n",
        "a.add(10), a.add(20), a.add(30)"
      ],
      "execution_count": null,
      "outputs": [
        {
          "output_type": "execute_result",
          "data": {
            "text/plain": [
              "(10.0, 15.0, 20.0)"
            ]
          },
          "metadata": {
            "tags": []
          },
          "execution_count": 173
        }
      ]
    },
    {
      "cell_type": "code",
      "metadata": {
        "tags": [],
        "cell_id": "00097-25401d69-148a-46c3-a77d-593352a335e6",
        "deepnote_to_be_reexecuted": false,
        "source_hash": "ba1ffa5d",
        "execution_start": 1623482641266,
        "execution_millis": 12,
        "deepnote_cell_type": "code",
        "id": "HFcQ8mSf3-c-",
        "outputId": "da4fbf5c-af6e-4e3e-8d88-1073ee2b69a2"
      },
      "source": [
        "class Counter:\n",
        "    def __init__(self):\n",
        "        self.counter = 0\n",
        "\n",
        "    def inc(self):\n",
        "        self.counter += 1\n",
        "\n",
        "    def total(self):\n",
        "        return self.counter\n",
        "\n",
        "c = Counter()\n",
        "\n",
        "c.inc(), c.inc(),c.inc(),c.inc(), c.inc(), c.inc()\n",
        "c.total()"
      ],
      "execution_count": null,
      "outputs": [
        {
          "output_type": "execute_result",
          "data": {
            "text/plain": [
              "6"
            ]
          },
          "metadata": {
            "tags": []
          },
          "execution_count": 177
        }
      ]
    },
    {
      "cell_type": "code",
      "metadata": {
        "tags": [],
        "cell_id": "00098-26efafaf-b445-4050-b8de-e4becdab72c0",
        "deepnote_to_be_reexecuted": false,
        "source_hash": "67457962",
        "execution_start": 1623482891898,
        "execution_millis": 16,
        "deepnote_cell_type": "code",
        "id": "VHq6gpt23-c_",
        "outputId": "732f961b-914a-4081-e334-0ca25b5a6e77"
      },
      "source": [
        "def averager():\n",
        "    numbers = []\n",
        "    def add(number):\n",
        "        numbers.append(number)\n",
        "        total = sum(numbers)\n",
        "        count = len(numbers)\n",
        "        return total/count\n",
        "    return add\n",
        "\n",
        "a = averager()\n",
        "\n",
        "a(10), a(20), a(30)\n",
        "\n"
      ],
      "execution_count": null,
      "outputs": [
        {
          "output_type": "execute_result",
          "data": {
            "text/plain": [
              "(10.0, 15.0, 20.0)"
            ]
          },
          "metadata": {
            "tags": []
          },
          "execution_count": 188
        }
      ]
    },
    {
      "cell_type": "code",
      "metadata": {
        "tags": [],
        "cell_id": "00099-6544595e-a289-41ac-a560-b4140519e9d6",
        "deepnote_to_be_reexecuted": false,
        "source_hash": "f88d732e",
        "execution_start": 1623483074082,
        "execution_millis": 0,
        "deepnote_cell_type": "code",
        "id": "giWo2ssw3-c_"
      },
      "source": [
        "def counter(initial_value):\n",
        "    # initial_value is a local variable here\n",
        "    def inc(increment = 1):\n",
        "        nonlocal initial_value\n",
        "        initial_value += increment\n",
        "        return initial_value\n",
        "    return inc\n",
        "\n",
        "counter1 = counter(4)"
      ],
      "execution_count": null,
      "outputs": []
    },
    {
      "cell_type": "code",
      "metadata": {
        "tags": [],
        "cell_id": "00100-698ee693-f573-401a-a572-5e38ac7a8270",
        "deepnote_to_be_reexecuted": false,
        "source_hash": "ed4c0492",
        "execution_start": 1623483076771,
        "execution_millis": 10,
        "deepnote_cell_type": "code",
        "id": "e4u7Dm133-dA",
        "outputId": "6c6c58ca-112f-431e-c4b1-a185a4e2467b"
      },
      "source": [
        "print(counter1(6))"
      ],
      "execution_count": null,
      "outputs": [
        {
          "output_type": "stream",
          "text": [
            "10\n"
          ],
          "name": "stdout"
        }
      ]
    },
    {
      "cell_type": "code",
      "metadata": {
        "tags": [],
        "cell_id": "00101-dea25311-2ade-4af0-81d7-cf9e7c9b5859",
        "deepnote_to_be_reexecuted": false,
        "source_hash": "82be39eb",
        "execution_start": 1623483188967,
        "execution_millis": 0,
        "deepnote_cell_type": "code",
        "id": "AeD2Wzx13-dA"
      },
      "source": [
        "def counter(fn):\n",
        "    cnt = 0\n",
        "    def inner(*args, **kwargs):\n",
        "        nonlocal cnt\n",
        "        cnt = cnt + 1\n",
        "        print(f'{fn.__name__} has been called {cnt} times')\n",
        "        return fn(*args, **kwargs)\n",
        "    return inner\n"
      ],
      "execution_count": null,
      "outputs": []
    },
    {
      "cell_type": "code",
      "metadata": {
        "tags": [],
        "cell_id": "00102-952fc964-5f4f-4124-b93d-ee657d60659a",
        "deepnote_to_be_reexecuted": false,
        "source_hash": "1d2f41a1",
        "execution_start": 1623483245871,
        "execution_millis": 0,
        "deepnote_cell_type": "code",
        "id": "8yotQUJ63-dB"
      },
      "source": [
        "def add(a, b):\n",
        "    return a + b\n",
        "\n",
        "\n",
        "c_add = counter(add)"
      ],
      "execution_count": null,
      "outputs": []
    },
    {
      "cell_type": "code",
      "metadata": {
        "tags": [],
        "cell_id": "00103-d7909a03-87a1-4375-bae4-efa8e50a91a5",
        "deepnote_to_be_reexecuted": false,
        "source_hash": "4697b851",
        "execution_start": 1623483270269,
        "execution_millis": 12,
        "deepnote_cell_type": "code",
        "id": "eatkWGzr3-dB",
        "outputId": "b370d3fd-0a38-450b-8662-e8b6bc667d85"
      },
      "source": [
        "c_add(1, 2)"
      ],
      "execution_count": null,
      "outputs": [
        {
          "output_type": "stream",
          "text": [
            "add has been called 1 times\n"
          ],
          "name": "stdout"
        },
        {
          "output_type": "execute_result",
          "data": {
            "text/plain": [
              "3"
            ]
          },
          "metadata": {
            "tags": []
          },
          "execution_count": 196
        }
      ]
    },
    {
      "cell_type": "code",
      "metadata": {
        "tags": [],
        "cell_id": "00104-a1374efc-140c-41eb-8315-0e1d047898ff",
        "deepnote_to_be_reexecuted": false,
        "source_hash": "eb7faa89",
        "execution_start": 1623483281910,
        "execution_millis": 16,
        "deepnote_cell_type": "code",
        "id": "5kamEzbw3-dC",
        "outputId": "6e944e98-20e5-4ccd-c4b0-795220e39e52"
      },
      "source": [
        "c_add(10, 34)"
      ],
      "execution_count": null,
      "outputs": [
        {
          "output_type": "stream",
          "text": [
            "add has been called 2 times\n"
          ],
          "name": "stdout"
        },
        {
          "output_type": "execute_result",
          "data": {
            "text/plain": [
              "44"
            ]
          },
          "metadata": {
            "tags": []
          },
          "execution_count": 197
        }
      ]
    },
    {
      "cell_type": "code",
      "metadata": {
        "tags": [],
        "cell_id": "00105-1f6a3973-6597-4834-bd5e-477aace883cb",
        "deepnote_to_be_reexecuted": false,
        "source_hash": "1777e834",
        "execution_start": 1623483291286,
        "execution_millis": 20,
        "deepnote_cell_type": "code",
        "id": "3ZvbSFnV3-dC",
        "outputId": "b9de1a62-5fce-4e26-99e9-7a09239e9bf6"
      },
      "source": [
        "c_add(10, 1231231)"
      ],
      "execution_count": null,
      "outputs": [
        {
          "output_type": "stream",
          "text": [
            "add has been called 3 times\n"
          ],
          "name": "stdout"
        },
        {
          "output_type": "execute_result",
          "data": {
            "text/plain": [
              "1231241"
            ]
          },
          "metadata": {
            "tags": []
          },
          "execution_count": 198
        }
      ]
    },
    {
      "cell_type": "code",
      "metadata": {
        "tags": [],
        "cell_id": "00106-8031a5a7-c6c8-47d9-a1fc-a64af7c69725",
        "deepnote_to_be_reexecuted": false,
        "source_hash": "3042e9",
        "execution_start": 1623483330606,
        "execution_millis": 10,
        "deepnote_cell_type": "code",
        "id": "yGMdUXR33-dD",
        "outputId": "de0da749-13d8-4994-b0b7-ea0df4918565"
      },
      "source": [
        "def counter(fn):\n",
        "    cnt = 0\n",
        "    def inner(*args, **kwargs):\n",
        "        nonlocal cnt\n",
        "        cnt = cnt + 1\n",
        "        print(f'{fn.__name__} has been called {cnt} times')\n",
        "        return fn(*args, **kwargs)\n",
        "    return inner\n",
        "\n",
        "def add(a, b):\n",
        "    return a + b\n",
        "\n",
        "\n",
        "add = counter(add)\n",
        "add(1, 2)"
      ],
      "execution_count": null,
      "outputs": [
        {
          "output_type": "stream",
          "text": [
            "add has been called 1 times\n"
          ],
          "name": "stdout"
        },
        {
          "output_type": "execute_result",
          "data": {
            "text/plain": [
              "3"
            ]
          },
          "metadata": {
            "tags": []
          },
          "execution_count": 199
        }
      ]
    },
    {
      "cell_type": "code",
      "metadata": {
        "tags": [],
        "cell_id": "00107-f49efe17-d221-416c-924f-2816d37b4fa4",
        "deepnote_to_be_reexecuted": false,
        "source_hash": "651df1dd",
        "execution_start": 1623483343253,
        "execution_millis": 20,
        "deepnote_cell_type": "code",
        "id": "qSWZo5r93-dD",
        "outputId": "59a04f4e-7d6a-444a-af74-0d94b1d88015"
      },
      "source": [
        "add(1, 2), add(1, 2),add(1, 2),add(1, 2),add(1, 2),add(1, 2),add(1, 2),add(1, 2),add(1, 2)"
      ],
      "execution_count": null,
      "outputs": [
        {
          "output_type": "stream",
          "text": [
            "add has been called 2 times\n",
            "add has been called 3 times\n",
            "add has been called 4 times\n",
            "add has been called 5 times\n",
            "add has been called 6 times\n",
            "add has been called 7 times\n",
            "add has been called 8 times\n",
            "add has been called 9 times\n",
            "add has been called 10 times\n"
          ],
          "name": "stdout"
        },
        {
          "output_type": "execute_result",
          "data": {
            "text/plain": [
              "(3, 3, 3, 3, 3, 3, 3, 3, 3)"
            ]
          },
          "metadata": {
            "tags": []
          },
          "execution_count": 200
        }
      ]
    },
    {
      "cell_type": "code",
      "metadata": {
        "tags": [],
        "cell_id": "00108-abf9802d-7d12-4a56-890a-e824feb04dc6",
        "deepnote_to_be_reexecuted": false,
        "source_hash": "b758aed5",
        "execution_start": 1623483530173,
        "execution_millis": 10,
        "deepnote_cell_type": "code",
        "id": "Huh5jYKb3-dE",
        "outputId": "12445135-37e9-4717-8417-03dad6af968c"
      },
      "source": [
        "counters = dict()\n",
        "\n",
        "def counter(fn):\n",
        "    cnt = 0\n",
        "    def inner(*args, **kwargs):\n",
        "        nonlocal cnt\n",
        "        cnt += 1\n",
        "        counters[fn.__name__] = cnt\n",
        "        return fn(*args, **kwargs)\n",
        "    return inner\n",
        "\n",
        "def mult(a, b, c):\n",
        "    return a * b * c\n",
        "\n",
        "\n",
        "def add(a, b):\n",
        "    return a + b\n",
        "\n",
        "mult = counter(mult)\n",
        "add = counter(add)\n",
        "\n",
        "mult(1, 2, 3), mult(1, 2, 3), mult(1, 2, 3), mult(1, 2, 3), mult(1, 2, 3), mult(1, 2, 3), mult(1, 2, 3), mult(1, 2, 3), mult(1, 2, 3), mult(1, 2, 3), mult(1, 2, 3), mult(1, 2, 3), mult(1, 2, 3), mult(1, 2, 3)\n",
        "add(1, 2),add(1, 2),add(1, 2),add(1, 2),add(1, 2),add(1, 2),add(1, 2),add(1, 2),add(1, 2),add(1, 2),add(1, 2),add(1, 2),add(1, 2),add(1, 2),add(1, 2),add(1, 2),add(1, 2),add(1, 2),add(1, 2),"
      ],
      "execution_count": null,
      "outputs": [
        {
          "output_type": "execute_result",
          "data": {
            "text/plain": [
              "(3, 3, 3, 3, 3, 3, 3, 3, 3, 3, 3, 3, 3, 3, 3, 3, 3, 3, 3)"
            ]
          },
          "metadata": {
            "tags": []
          },
          "execution_count": 202
        }
      ]
    },
    {
      "cell_type": "code",
      "metadata": {
        "tags": [],
        "cell_id": "00109-b1a21937-4c8b-4481-ba8b-e32a0f99639c",
        "deepnote_to_be_reexecuted": false,
        "source_hash": "3de425a9",
        "execution_start": 1623483548634,
        "execution_millis": 8,
        "deepnote_cell_type": "code",
        "id": "J7OKBqgV3-dF",
        "outputId": "8cb116f3-24a9-4dd5-d08d-1cf622e7fc4c"
      },
      "source": [
        "counters"
      ],
      "execution_count": null,
      "outputs": [
        {
          "output_type": "execute_result",
          "data": {
            "text/plain": [
              "{'mult': 14, 'add': 19}"
            ]
          },
          "metadata": {
            "tags": []
          },
          "execution_count": 203
        }
      ]
    },
    {
      "cell_type": "code",
      "metadata": {
        "tags": [],
        "cell_id": "00110-13227d16-f1c7-4768-ae57-dfdbbfbfd8c8",
        "deepnote_to_be_reexecuted": false,
        "source_hash": "6e0766e7",
        "execution_start": 1623483631481,
        "execution_millis": 14,
        "deepnote_cell_type": "code",
        "id": "McrVn-4N3-dH",
        "outputId": "b9c5bc21-5700-493b-b151-d0a2c68f4433"
      },
      "source": [
        "ef \n",
        "\n",
        "def mult(a, b, c):\n",
        "    return a * b * c\n",
        "\n",
        "def add(a, b):\n",
        "    return a + b\n",
        "\n",
        "func_counter = dict()\n",
        "mult = counter(mult, func_counter)\n",
        "add = counter(add, func_counter)\n",
        "\n",
        "mult(1, 2, 3), mult(1, 2, 3), mult(1, 2, 3), mult(1, 2, 3), mult(1, 2, 3), mult(1, 2, 3), mult(1, 2, 3), mult(1, 2, 3), mult(1, 2, 3), mult(1, 2, 3), mult(1, 2, 3), mult(1, 2, 3), mult(1, 2, 3), mult(1, 2, 3)\n",
        "add(1, 2),add(1, 2),add(1, 2),add(1, 2),add(1, 2),add(1, 2),add(1, 2),add(1, 2),add(1, 2),add(1, 2),add(1, 2),add(1, 2),add(1, 2),add(1, 2),add(1, 2),add(1, 2),add(1, 2),add(1, 2),add(1, 2),\n",
        "\n",
        "func_counter"
      ],
      "execution_count": null,
      "outputs": [
        {
          "output_type": "execute_result",
          "data": {
            "text/plain": [
              "{'mult': 14, 'add': 19}"
            ]
          },
          "metadata": {
            "tags": []
          },
          "execution_count": 204
        }
      ]
    },
    {
      "cell_type": "code",
      "metadata": {
        "tags": [],
        "cell_id": "00111-019cba9e-42e0-42a5-9845-630342728a45",
        "deepnote_to_be_reexecuted": false,
        "source_hash": "1a41bae9",
        "execution_start": 1623483780355,
        "execution_millis": 2,
        "deepnote_cell_type": "code",
        "id": "a9NgfnnG3-dH"
      },
      "source": [
        "def logging(fn):\n",
        "    def inner(*args, **kwargs):\n",
        "        print(f'We just called {fn.__name__} at {perf_counter()}')\n",
        "        return(fn(*args, **kwargs))\n",
        "    return inner\n",
        "\n",
        "add = logging(add)\n"
      ],
      "execution_count": null,
      "outputs": []
    },
    {
      "cell_type": "code",
      "metadata": {
        "tags": [],
        "cell_id": "00112-37b5ae6d-ba4c-4ad9-a53e-28dad9ff6a39",
        "deepnote_to_be_reexecuted": false,
        "source_hash": "e914c6af",
        "execution_start": 1623483789490,
        "execution_millis": 10,
        "deepnote_cell_type": "code",
        "id": "sA4fmKR83-dI",
        "outputId": "90b054de-7520-4aa9-a209-ca880775580e"
      },
      "source": [
        "add(3, 4)"
      ],
      "execution_count": null,
      "outputs": [
        {
          "output_type": "stream",
          "text": [
            "We just called inner at 40544.125119547\n"
          ],
          "name": "stdout"
        },
        {
          "output_type": "execute_result",
          "data": {
            "text/plain": [
              "7"
            ]
          },
          "metadata": {
            "tags": []
          },
          "execution_count": 208
        }
      ]
    },
    {
      "cell_type": "code",
      "metadata": {
        "tags": [],
        "cell_id": "00113-ae6289a8-9d65-412d-a229-beddcd36cc5a",
        "deepnote_to_be_reexecuted": false,
        "source_hash": "b12eaee0",
        "execution_start": 1623483824532,
        "execution_millis": 9,
        "deepnote_cell_type": "code",
        "id": "Qc9ZBMRP3-dI",
        "outputId": "a50aa9b5-e639-4c9e-876d-c96d979d2325"
      },
      "source": [
        "add(3, 4),"
      ],
      "execution_count": null,
      "outputs": [
        {
          "output_type": "stream",
          "text": [
            "We just called inner at 40579.167642208\n"
          ],
          "name": "stdout"
        },
        {
          "output_type": "execute_result",
          "data": {
            "text/plain": [
              "(7,)"
            ]
          },
          "metadata": {
            "tags": []
          },
          "execution_count": 210
        }
      ]
    },
    {
      "cell_type": "code",
      "metadata": {
        "tags": [],
        "cell_id": "00113-b7dd5b97-a2d9-4078-92d9-cf5b80006918",
        "deepnote_to_be_reexecuted": false,
        "source_hash": "e914c6af",
        "execution_start": 1623483828142,
        "execution_millis": 12,
        "deepnote_cell_type": "code",
        "id": "Wg2m0u0b3-dJ",
        "outputId": "24b25fcd-c565-4cf2-b986-95adfe50fef9"
      },
      "source": [
        "add(3, 4)"
      ],
      "execution_count": null,
      "outputs": [
        {
          "output_type": "stream",
          "text": [
            "We just called inner at 40582.777599855\n"
          ],
          "name": "stdout"
        },
        {
          "output_type": "execute_result",
          "data": {
            "text/plain": [
              "7"
            ]
          },
          "metadata": {
            "tags": []
          },
          "execution_count": 211
        }
      ]
    },
    {
      "cell_type": "code",
      "metadata": {
        "tags": [],
        "cell_id": "00115-817048b7-61f9-4ad8-91a6-20dd38b7cb88",
        "deepnote_to_be_reexecuted": false,
        "source_hash": "e914c6af",
        "execution_start": 1623483830249,
        "execution_millis": 7,
        "deepnote_cell_type": "code",
        "id": "OyRIKGMM3-dN",
        "outputId": "ef995118-04f7-4723-aa9d-e6e0b2d38e40"
      },
      "source": [
        "add(3, 4)"
      ],
      "execution_count": null,
      "outputs": [
        {
          "output_type": "stream",
          "text": [
            "We just called inner at 40584.883490083\n"
          ],
          "name": "stdout"
        },
        {
          "output_type": "execute_result",
          "data": {
            "text/plain": [
              "7"
            ]
          },
          "metadata": {
            "tags": []
          },
          "execution_count": 212
        }
      ]
    },
    {
      "cell_type": "code",
      "metadata": {
        "tags": [],
        "cell_id": "00116-57628dd4-28b1-48a4-b24b-ca907e1271af",
        "deepnote_to_be_reexecuted": false,
        "source_hash": "9f584c07",
        "execution_start": 1623483846446,
        "execution_millis": 13,
        "deepnote_cell_type": "code",
        "id": "s7gi2EOp3-dN",
        "outputId": "24447117-68d6-49a4-a614-fcf70df79e1f"
      },
      "source": [
        "func_counter"
      ],
      "execution_count": null,
      "outputs": [
        {
          "output_type": "execute_result",
          "data": {
            "text/plain": [
              "{'mult': 14, 'add': 24}"
            ]
          },
          "metadata": {
            "tags": []
          },
          "execution_count": 213
        }
      ]
    },
    {
      "cell_type": "code",
      "metadata": {
        "tags": [],
        "cell_id": "00117-0f112fd4-29a9-4970-86e6-7d8a0aa700a5",
        "deepnote_cell_type": "code",
        "id": "dnP_jScg3-dO"
      },
      "source": [
        ""
      ],
      "execution_count": null,
      "outputs": []
    },
    {
      "cell_type": "markdown",
      "metadata": {
        "tags": [],
        "created_in_deepnote_cell": true,
        "deepnote_cell_type": "markdown",
        "id": "j6Igx0fb3-dO"
      },
      "source": [
        "<a style='text-decoration:none;line-height:16px;display:flex;color:#5B5B62;padding:10px;justify-content:end;' href='https://deepnote.com?utm_source=created-in-deepnote-cell&projectId=ec90de38-255d-4b81-a5aa-8cef77d684bf' target=\"_blank\">\n",
        "<img alt='Created in deepnote.com' style='display:inline;max-height:16px;margin:0px;margin-right:7.5px;' src='data:image/svg+xml;base64,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' > </img>\n",
        "Created in <span style='font-weight:600;margin-left:4px;'>Deepnote</span></a>"
      ]
    }
  ]
}